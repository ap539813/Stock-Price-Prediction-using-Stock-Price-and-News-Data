{
 "cells": [
  {
   "cell_type": "code",
   "execution_count": 86,
   "metadata": {},
   "outputs": [],
   "source": [
    "import pandas as pd\n",
    "import numpy as np"
   ]
  },
  {
   "cell_type": "markdown",
   "metadata": {},
   "source": [
    "## Load the stock news data"
   ]
  },
  {
   "cell_type": "code",
   "execution_count": 87,
   "metadata": {},
   "outputs": [
    {
     "data": {
      "text/html": [
       "<div>\n",
       "<style scoped>\n",
       "    .dataframe tbody tr th:only-of-type {\n",
       "        vertical-align: middle;\n",
       "    }\n",
       "\n",
       "    .dataframe tbody tr th {\n",
       "        vertical-align: top;\n",
       "    }\n",
       "\n",
       "    .dataframe thead th {\n",
       "        text-align: right;\n",
       "    }\n",
       "</style>\n",
       "<table border=\"1\" class=\"dataframe\">\n",
       "  <thead>\n",
       "    <tr style=\"text-align: right;\">\n",
       "      <th></th>\n",
       "      <th>Unnamed: 0</th>\n",
       "      <th>title</th>\n",
       "      <th>date</th>\n",
       "      <th>stock</th>\n",
       "    </tr>\n",
       "  </thead>\n",
       "  <tbody>\n",
       "    <tr>\n",
       "      <th>0</th>\n",
       "      <td>0.0</td>\n",
       "      <td>Stocks That Hit 52-Week Highs On Friday</td>\n",
       "      <td>2020-06-05 10:30:00-04:00</td>\n",
       "      <td>A</td>\n",
       "    </tr>\n",
       "    <tr>\n",
       "      <th>1</th>\n",
       "      <td>1.0</td>\n",
       "      <td>Stocks That Hit 52-Week Highs On Wednesday</td>\n",
       "      <td>2020-06-03 10:45:00-04:00</td>\n",
       "      <td>A</td>\n",
       "    </tr>\n",
       "    <tr>\n",
       "      <th>2</th>\n",
       "      <td>2.0</td>\n",
       "      <td>71 Biggest Movers From Friday</td>\n",
       "      <td>2020-05-26 04:30:00-04:00</td>\n",
       "      <td>A</td>\n",
       "    </tr>\n",
       "    <tr>\n",
       "      <th>3</th>\n",
       "      <td>3.0</td>\n",
       "      <td>46 Stocks Moving In Friday's Mid-Day Session</td>\n",
       "      <td>2020-05-22 12:45:00-04:00</td>\n",
       "      <td>A</td>\n",
       "    </tr>\n",
       "    <tr>\n",
       "      <th>4</th>\n",
       "      <td>4.0</td>\n",
       "      <td>B of A Securities Maintains Neutral on Agilent...</td>\n",
       "      <td>2020-05-22 11:38:00-04:00</td>\n",
       "      <td>A</td>\n",
       "    </tr>\n",
       "  </tbody>\n",
       "</table>\n",
       "</div>"
      ],
      "text/plain": [
       "   Unnamed: 0                                              title  \\\n",
       "0         0.0            Stocks That Hit 52-Week Highs On Friday   \n",
       "1         1.0         Stocks That Hit 52-Week Highs On Wednesday   \n",
       "2         2.0                      71 Biggest Movers From Friday   \n",
       "3         3.0       46 Stocks Moving In Friday's Mid-Day Session   \n",
       "4         4.0  B of A Securities Maintains Neutral on Agilent...   \n",
       "\n",
       "                        date stock  \n",
       "0  2020-06-05 10:30:00-04:00     A  \n",
       "1  2020-06-03 10:45:00-04:00     A  \n",
       "2  2020-05-26 04:30:00-04:00     A  \n",
       "3  2020-05-22 12:45:00-04:00     A  \n",
       "4  2020-05-22 11:38:00-04:00     A  "
      ]
     },
     "execution_count": 87,
     "metadata": {},
     "output_type": "execute_result"
    }
   ],
   "source": [
    "news = pd.read_csv('analyst_ratings_processed.csv')\n",
    "news.head()"
   ]
  },
  {
   "cell_type": "code",
   "execution_count": 88,
   "metadata": {},
   "outputs": [
    {
     "data": {
      "text/plain": [
       "Index(['Unnamed: 0', 'title', 'date', 'stock'], dtype='object')"
      ]
     },
     "execution_count": 88,
     "metadata": {},
     "output_type": "execute_result"
    }
   ],
   "source": [
    "news.columns"
   ]
  },
  {
   "cell_type": "code",
   "execution_count": 89,
   "metadata": {},
   "outputs": [
    {
     "data": {
      "text/html": [
       "<div>\n",
       "<style scoped>\n",
       "    .dataframe tbody tr th:only-of-type {\n",
       "        vertical-align: middle;\n",
       "    }\n",
       "\n",
       "    .dataframe tbody tr th {\n",
       "        vertical-align: top;\n",
       "    }\n",
       "\n",
       "    .dataframe thead th {\n",
       "        text-align: right;\n",
       "    }\n",
       "</style>\n",
       "<table border=\"1\" class=\"dataframe\">\n",
       "  <thead>\n",
       "    <tr style=\"text-align: right;\">\n",
       "      <th></th>\n",
       "      <th>title</th>\n",
       "      <th>date</th>\n",
       "      <th>stock</th>\n",
       "    </tr>\n",
       "  </thead>\n",
       "  <tbody>\n",
       "    <tr>\n",
       "      <th>0</th>\n",
       "      <td>Stocks That Hit 52-Week Highs On Friday</td>\n",
       "      <td>2020-06-05 10:30:00-04:00</td>\n",
       "      <td>A</td>\n",
       "    </tr>\n",
       "    <tr>\n",
       "      <th>1</th>\n",
       "      <td>Stocks That Hit 52-Week Highs On Wednesday</td>\n",
       "      <td>2020-06-03 10:45:00-04:00</td>\n",
       "      <td>A</td>\n",
       "    </tr>\n",
       "    <tr>\n",
       "      <th>2</th>\n",
       "      <td>71 Biggest Movers From Friday</td>\n",
       "      <td>2020-05-26 04:30:00-04:00</td>\n",
       "      <td>A</td>\n",
       "    </tr>\n",
       "    <tr>\n",
       "      <th>3</th>\n",
       "      <td>46 Stocks Moving In Friday's Mid-Day Session</td>\n",
       "      <td>2020-05-22 12:45:00-04:00</td>\n",
       "      <td>A</td>\n",
       "    </tr>\n",
       "    <tr>\n",
       "      <th>4</th>\n",
       "      <td>B of A Securities Maintains Neutral on Agilent...</td>\n",
       "      <td>2020-05-22 11:38:00-04:00</td>\n",
       "      <td>A</td>\n",
       "    </tr>\n",
       "  </tbody>\n",
       "</table>\n",
       "</div>"
      ],
      "text/plain": [
       "                                               title  \\\n",
       "0            Stocks That Hit 52-Week Highs On Friday   \n",
       "1         Stocks That Hit 52-Week Highs On Wednesday   \n",
       "2                      71 Biggest Movers From Friday   \n",
       "3       46 Stocks Moving In Friday's Mid-Day Session   \n",
       "4  B of A Securities Maintains Neutral on Agilent...   \n",
       "\n",
       "                        date stock  \n",
       "0  2020-06-05 10:30:00-04:00     A  \n",
       "1  2020-06-03 10:45:00-04:00     A  \n",
       "2  2020-05-26 04:30:00-04:00     A  \n",
       "3  2020-05-22 12:45:00-04:00     A  \n",
       "4  2020-05-22 11:38:00-04:00     A  "
      ]
     },
     "execution_count": 89,
     "metadata": {},
     "output_type": "execute_result"
    }
   ],
   "source": [
    "news = news[['title', 'date', 'stock']]\n",
    "news.head()"
   ]
  },
  {
   "cell_type": "code",
   "execution_count": 90,
   "metadata": {},
   "outputs": [
    {
     "data": {
      "text/plain": [
       "array(['A', 'AAMC', 'AAME', ..., 'ZU', 'ZUMZ', 'ZX'], dtype=object)"
      ]
     },
     "execution_count": 90,
     "metadata": {},
     "output_type": "execute_result"
    }
   ],
   "source": [
    "# Lets have a look on the sunique stocks we have\n",
    "\n",
    "news['stock'].unique()"
   ]
  },
  {
   "cell_type": "code",
   "execution_count": 91,
   "metadata": {},
   "outputs": [
    {
     "data": {
      "text/plain": [
       "'MRK'"
      ]
     },
     "execution_count": 91,
     "metadata": {},
     "output_type": "execute_result"
    }
   ],
   "source": [
    "# Now let's see how many instances we have for each stock\n",
    "\n",
    "max_count = news.groupby('stock').count().iloc[:, 0].max()\n",
    "stock_name = news.groupby('stock').count().iloc[:, 0][news.groupby('stock').count().iloc[:, 0] == max_count].index[0]\n",
    "stock_name\n"
   ]
  },
  {
   "cell_type": "code",
   "execution_count": 92,
   "metadata": {},
   "outputs": [
    {
     "data": {
      "text/html": [
       "<div>\n",
       "<style scoped>\n",
       "    .dataframe tbody tr th:only-of-type {\n",
       "        vertical-align: middle;\n",
       "    }\n",
       "\n",
       "    .dataframe tbody tr th {\n",
       "        vertical-align: top;\n",
       "    }\n",
       "\n",
       "    .dataframe thead th {\n",
       "        text-align: right;\n",
       "    }\n",
       "</style>\n",
       "<table border=\"1\" class=\"dataframe\">\n",
       "  <thead>\n",
       "    <tr style=\"text-align: right;\">\n",
       "      <th></th>\n",
       "      <th>title</th>\n",
       "      <th>date</th>\n",
       "      <th>stock</th>\n",
       "    </tr>\n",
       "  </thead>\n",
       "  <tbody>\n",
       "    <tr>\n",
       "      <th>0</th>\n",
       "      <td>Shares of several healthcare companies are tra...</td>\n",
       "      <td>2020-06-11 10:22:00-04:00</td>\n",
       "      <td>MRK</td>\n",
       "    </tr>\n",
       "    <tr>\n",
       "      <th>1</th>\n",
       "      <td>Johnson &amp; Johnson To Start Coronavirus Vaccine...</td>\n",
       "      <td>2020-06-11 00:16:00-04:00</td>\n",
       "      <td>MRK</td>\n",
       "    </tr>\n",
       "    <tr>\n",
       "      <th>2</th>\n",
       "      <td>The Daily Biotech Pulse: Keytruda Setback For ...</td>\n",
       "      <td>2020-06-10 07:30:00-04:00</td>\n",
       "      <td>MRK</td>\n",
       "    </tr>\n",
       "    <tr>\n",
       "      <th>3</th>\n",
       "      <td>Merck Announces That The Phase 3 KEYNOTE-361 T...</td>\n",
       "      <td>2020-06-09 16:13:00-04:00</td>\n",
       "      <td>MRK</td>\n",
       "    </tr>\n",
       "    <tr>\n",
       "      <th>4</th>\n",
       "      <td>The Week Ahead In Biotech: Viela FDA Decision,...</td>\n",
       "      <td>2020-06-07 13:43:00-04:00</td>\n",
       "      <td>MRK</td>\n",
       "    </tr>\n",
       "  </tbody>\n",
       "</table>\n",
       "</div>"
      ],
      "text/plain": [
       "                                               title  \\\n",
       "0  Shares of several healthcare companies are tra...   \n",
       "1  Johnson & Johnson To Start Coronavirus Vaccine...   \n",
       "2  The Daily Biotech Pulse: Keytruda Setback For ...   \n",
       "3  Merck Announces That The Phase 3 KEYNOTE-361 T...   \n",
       "4  The Week Ahead In Biotech: Viela FDA Decision,...   \n",
       "\n",
       "                        date stock  \n",
       "0  2020-06-11 10:22:00-04:00   MRK  \n",
       "1  2020-06-11 00:16:00-04:00   MRK  \n",
       "2  2020-06-10 07:30:00-04:00   MRK  \n",
       "3  2020-06-09 16:13:00-04:00   MRK  \n",
       "4  2020-06-07 13:43:00-04:00   MRK  "
      ]
     },
     "execution_count": 92,
     "metadata": {},
     "output_type": "execute_result"
    }
   ],
   "source": [
    "# lets extract the news for this stock\n",
    "new_news = news[news['stock'] == stock_name].reset_index(drop = True)\n",
    "\n",
    "new_news.head()"
   ]
  },
  {
   "cell_type": "code",
   "execution_count": 93,
   "metadata": {},
   "outputs": [
    {
     "name": "stdout",
     "output_type": "stream",
     "text": [
      "<class 'pandas.core.frame.DataFrame'>\n",
      "RangeIndex: 3334 entries, 0 to 3333\n",
      "Data columns (total 3 columns):\n",
      " #   Column  Non-Null Count  Dtype \n",
      "---  ------  --------------  ----- \n",
      " 0   title   3334 non-null   object\n",
      " 1   date    3334 non-null   object\n",
      " 2   stock   3334 non-null   object\n",
      "dtypes: object(3)\n",
      "memory usage: 78.3+ KB\n"
     ]
    }
   ],
   "source": [
    "new_news.info()"
   ]
  },
  {
   "cell_type": "code",
   "execution_count": 94,
   "metadata": {},
   "outputs": [
    {
     "data": {
      "text/html": [
       "<div>\n",
       "<style scoped>\n",
       "    .dataframe tbody tr th:only-of-type {\n",
       "        vertical-align: middle;\n",
       "    }\n",
       "\n",
       "    .dataframe tbody tr th {\n",
       "        vertical-align: top;\n",
       "    }\n",
       "\n",
       "    .dataframe thead th {\n",
       "        text-align: right;\n",
       "    }\n",
       "</style>\n",
       "<table border=\"1\" class=\"dataframe\">\n",
       "  <thead>\n",
       "    <tr style=\"text-align: right;\">\n",
       "      <th></th>\n",
       "      <th>title</th>\n",
       "      <th>date</th>\n",
       "      <th>stock</th>\n",
       "    </tr>\n",
       "  </thead>\n",
       "  <tbody>\n",
       "    <tr>\n",
       "      <th>0</th>\n",
       "      <td>Shares of several healthcare companies are tra...</td>\n",
       "      <td>2020-06-11</td>\n",
       "      <td>MRK</td>\n",
       "    </tr>\n",
       "    <tr>\n",
       "      <th>1</th>\n",
       "      <td>Johnson &amp; Johnson To Start Coronavirus Vaccine...</td>\n",
       "      <td>2020-06-11</td>\n",
       "      <td>MRK</td>\n",
       "    </tr>\n",
       "    <tr>\n",
       "      <th>2</th>\n",
       "      <td>The Daily Biotech Pulse: Keytruda Setback For ...</td>\n",
       "      <td>2020-06-10</td>\n",
       "      <td>MRK</td>\n",
       "    </tr>\n",
       "    <tr>\n",
       "      <th>3</th>\n",
       "      <td>Merck Announces That The Phase 3 KEYNOTE-361 T...</td>\n",
       "      <td>2020-06-09</td>\n",
       "      <td>MRK</td>\n",
       "    </tr>\n",
       "    <tr>\n",
       "      <th>4</th>\n",
       "      <td>The Week Ahead In Biotech: Viela FDA Decision,...</td>\n",
       "      <td>2020-06-07</td>\n",
       "      <td>MRK</td>\n",
       "    </tr>\n",
       "  </tbody>\n",
       "</table>\n",
       "</div>"
      ],
      "text/plain": [
       "                                               title        date stock\n",
       "0  Shares of several healthcare companies are tra...  2020-06-11   MRK\n",
       "1  Johnson & Johnson To Start Coronavirus Vaccine...  2020-06-11   MRK\n",
       "2  The Daily Biotech Pulse: Keytruda Setback For ...  2020-06-10   MRK\n",
       "3  Merck Announces That The Phase 3 KEYNOTE-361 T...  2020-06-09   MRK\n",
       "4  The Week Ahead In Biotech: Viela FDA Decision,...  2020-06-07   MRK"
      ]
     },
     "execution_count": 94,
     "metadata": {},
     "output_type": "execute_result"
    }
   ],
   "source": [
    "new_news['date'] = pd.to_datetime(new_news['date'])\n",
    "new_news['date'] = [item.date() for item in new_news['date']]\n",
    "new_news.head()"
   ]
  },
  {
   "cell_type": "code",
   "execution_count": 101,
   "metadata": {},
   "outputs": [
    {
     "name": "stdout",
     "output_type": "stream",
     "text": [
      "<class 'pandas.core.frame.DataFrame'>\n",
      "RangeIndex: 3334 entries, 0 to 3333\n",
      "Data columns (total 3 columns):\n",
      " #   Column  Non-Null Count  Dtype \n",
      "---  ------  --------------  ----- \n",
      " 0   title   3334 non-null   object\n",
      " 1   date    3334 non-null   object\n",
      " 2   stock   3334 non-null   object\n",
      "dtypes: object(3)\n",
      "memory usage: 78.3+ KB\n"
     ]
    }
   ],
   "source": [
    "new_news.info()"
   ]
  },
  {
   "cell_type": "markdown",
   "metadata": {},
   "source": [
    "### Now since we have filtered the news for the stock name MRK, this is time to get the stock prices for his particular stock."
   ]
  },
  {
   "cell_type": "code",
   "execution_count": 102,
   "metadata": {},
   "outputs": [
    {
     "data": {
      "text/plain": [
       "(datetime.date(2020, 6, 11), datetime.date(2009, 7, 27))"
      ]
     },
     "execution_count": 102,
     "metadata": {},
     "output_type": "execute_result"
    }
   ],
   "source": [
    "# First of all check the timestamp\n",
    "\n",
    "start_date = new_news['date'].iloc[0]\n",
    "end_date = new_news['date'].iloc[-1]\n",
    "\n",
    "start_date, end_date"
   ]
  },
  {
   "cell_type": "code",
   "execution_count": 103,
   "metadata": {},
   "outputs": [
    {
     "name": "stdout",
     "output_type": "stream",
     "text": [
      "Requirement already satisfied: yfinance in /Users/ankushpandey/miniforge3/envs/tensorflow/lib/python3.9/site-packages (0.1.68)\n",
      "Requirement already satisfied: multitasking>=0.0.7 in /Users/ankushpandey/miniforge3/envs/tensorflow/lib/python3.9/site-packages (from yfinance) (0.0.10)\n",
      "Requirement already satisfied: lxml>=4.5.1 in /Users/ankushpandey/miniforge3/envs/tensorflow/lib/python3.9/site-packages (from yfinance) (4.6.3)\n",
      "Requirement already satisfied: requests>=2.26 in /Users/ankushpandey/miniforge3/envs/tensorflow/lib/python3.9/site-packages (from yfinance) (2.26.0)\n",
      "Requirement already satisfied: numpy>=1.15 in /Users/ankushpandey/miniforge3/envs/tensorflow/lib/python3.9/site-packages (from yfinance) (1.21.2)\n",
      "Requirement already satisfied: pandas>=0.24 in /Users/ankushpandey/miniforge3/envs/tensorflow/lib/python3.9/site-packages (from yfinance) (1.3.1)\n",
      "Requirement already satisfied: python-dateutil>=2.7.3 in /Users/ankushpandey/miniforge3/envs/tensorflow/lib/python3.9/site-packages (from pandas>=0.24->yfinance) (2.8.2)\n",
      "Requirement already satisfied: pytz>=2017.3 in /Users/ankushpandey/miniforge3/envs/tensorflow/lib/python3.9/site-packages (from pandas>=0.24->yfinance) (2021.3)\n",
      "Requirement already satisfied: six>=1.5 in /Users/ankushpandey/miniforge3/envs/tensorflow/lib/python3.9/site-packages (from python-dateutil>=2.7.3->pandas>=0.24->yfinance) (1.12.0)\n",
      "Requirement already satisfied: certifi>=2017.4.17 in /Users/ankushpandey/miniforge3/envs/tensorflow/lib/python3.9/site-packages (from requests>=2.26->yfinance) (2021.5.30)\n",
      "Requirement already satisfied: urllib3<1.27,>=1.21.1 in /Users/ankushpandey/miniforge3/envs/tensorflow/lib/python3.9/site-packages (from requests>=2.26->yfinance) (1.26.7)\n",
      "Requirement already satisfied: charset-normalizer~=2.0.0 in /Users/ankushpandey/miniforge3/envs/tensorflow/lib/python3.9/site-packages (from requests>=2.26->yfinance) (2.0.4)\n",
      "Requirement already satisfied: idna<4,>=2.5 in /Users/ankushpandey/miniforge3/envs/tensorflow/lib/python3.9/site-packages (from requests>=2.26->yfinance) (3.2)\n"
     ]
    }
   ],
   "source": [
    "! pip install yfinance"
   ]
  },
  {
   "cell_type": "code",
   "execution_count": 104,
   "metadata": {},
   "outputs": [
    {
     "name": "stdout",
     "output_type": "stream",
     "text": [
      "[*********************100%***********************]  1 of 1 completed\n"
     ]
    }
   ],
   "source": [
    "# Import Yahoo finance library\n",
    "\n",
    "import yfinance as yf\n",
    "\n",
    "# Get the data for the stock MRK\n",
    "data = yf.download('MRK','2009-07-27','2020-06-11')"
   ]
  },
  {
   "cell_type": "code",
   "execution_count": 105,
   "metadata": {},
   "outputs": [
    {
     "data": {
      "text/html": [
       "<div>\n",
       "<style scoped>\n",
       "    .dataframe tbody tr th:only-of-type {\n",
       "        vertical-align: middle;\n",
       "    }\n",
       "\n",
       "    .dataframe tbody tr th {\n",
       "        vertical-align: top;\n",
       "    }\n",
       "\n",
       "    .dataframe thead th {\n",
       "        text-align: right;\n",
       "    }\n",
       "</style>\n",
       "<table border=\"1\" class=\"dataframe\">\n",
       "  <thead>\n",
       "    <tr style=\"text-align: right;\">\n",
       "      <th></th>\n",
       "      <th>Open</th>\n",
       "      <th>High</th>\n",
       "      <th>Low</th>\n",
       "      <th>Close</th>\n",
       "      <th>Adj Close</th>\n",
       "      <th>Volume</th>\n",
       "    </tr>\n",
       "    <tr>\n",
       "      <th>Date</th>\n",
       "      <th></th>\n",
       "      <th></th>\n",
       "      <th></th>\n",
       "      <th></th>\n",
       "      <th></th>\n",
       "      <th></th>\n",
       "    </tr>\n",
       "  </thead>\n",
       "  <tbody>\n",
       "    <tr>\n",
       "      <th>2009-07-27</th>\n",
       "      <td>29.694656</td>\n",
       "      <td>29.751907</td>\n",
       "      <td>29.026718</td>\n",
       "      <td>29.360687</td>\n",
       "      <td>18.955812</td>\n",
       "      <td>21026758</td>\n",
       "    </tr>\n",
       "    <tr>\n",
       "      <th>2009-07-28</th>\n",
       "      <td>29.303434</td>\n",
       "      <td>29.494274</td>\n",
       "      <td>28.406488</td>\n",
       "      <td>28.645039</td>\n",
       "      <td>18.493782</td>\n",
       "      <td>23627265</td>\n",
       "    </tr>\n",
       "    <tr>\n",
       "      <th>2009-07-29</th>\n",
       "      <td>28.635496</td>\n",
       "      <td>28.759542</td>\n",
       "      <td>28.158398</td>\n",
       "      <td>28.501907</td>\n",
       "      <td>18.401371</td>\n",
       "      <td>16696736</td>\n",
       "    </tr>\n",
       "    <tr>\n",
       "      <th>2009-07-30</th>\n",
       "      <td>28.826336</td>\n",
       "      <td>29.551527</td>\n",
       "      <td>28.511450</td>\n",
       "      <td>28.568703</td>\n",
       "      <td>18.444494</td>\n",
       "      <td>24300290</td>\n",
       "    </tr>\n",
       "    <tr>\n",
       "      <th>2009-07-31</th>\n",
       "      <td>28.816793</td>\n",
       "      <td>29.179390</td>\n",
       "      <td>28.540075</td>\n",
       "      <td>28.635496</td>\n",
       "      <td>18.487616</td>\n",
       "      <td>16269362</td>\n",
       "    </tr>\n",
       "  </tbody>\n",
       "</table>\n",
       "</div>"
      ],
      "text/plain": [
       "                 Open       High        Low      Close  Adj Close    Volume\n",
       "Date                                                                       \n",
       "2009-07-27  29.694656  29.751907  29.026718  29.360687  18.955812  21026758\n",
       "2009-07-28  29.303434  29.494274  28.406488  28.645039  18.493782  23627265\n",
       "2009-07-29  28.635496  28.759542  28.158398  28.501907  18.401371  16696736\n",
       "2009-07-30  28.826336  29.551527  28.511450  28.568703  18.444494  24300290\n",
       "2009-07-31  28.816793  29.179390  28.540075  28.635496  18.487616  16269362"
      ]
     },
     "execution_count": 105,
     "metadata": {},
     "output_type": "execute_result"
    }
   ],
   "source": [
    "# Print 1st five rows of the data\n",
    "\n",
    "data.head()"
   ]
  },
  {
   "cell_type": "code",
   "execution_count": 106,
   "metadata": {},
   "outputs": [
    {
     "name": "stdout",
     "output_type": "stream",
     "text": [
      "<class 'pandas.core.frame.DataFrame'>\n",
      "DatetimeIndex: 2738 entries, 2009-07-27 to 2020-06-10\n",
      "Data columns (total 6 columns):\n",
      " #   Column     Non-Null Count  Dtype  \n",
      "---  ------     --------------  -----  \n",
      " 0   Open       2738 non-null   float64\n",
      " 1   High       2738 non-null   float64\n",
      " 2   Low        2738 non-null   float64\n",
      " 3   Close      2738 non-null   float64\n",
      " 4   Adj Close  2738 non-null   float64\n",
      " 5   Volume     2738 non-null   int64  \n",
      "dtypes: float64(5), int64(1)\n",
      "memory usage: 149.7 KB\n"
     ]
    }
   ],
   "source": [
    "# Look at the information of columns of the data using .info method\n",
    "\n",
    "data.info()"
   ]
  },
  {
   "cell_type": "markdown",
   "metadata": {},
   "source": [
    "### By now we have two different data frames named as new_news and data, the news dataframe contains news related to the stock and data dataframe contains the information about the stock values yeah. Before we merge both the data frames in a single data frame we will need to aggregate the news with respect to date.\n",
    "Before we merge both the data frames in a single data frame we will need to aggregate the news with respect to date.\n",
    "To aggregate the news with respect to date we will concatenate the rows which have the same date."
   ]
  },
  {
   "cell_type": "code",
   "execution_count": 118,
   "metadata": {},
   "outputs": [],
   "source": [
    "# Function used to concatenate the news data while using group by function\n",
    "\n",
    "def concat_data(x):\n",
    "    return ' '.join(x)"
   ]
  },
  {
   "cell_type": "code",
   "execution_count": 120,
   "metadata": {},
   "outputs": [],
   "source": [
    "# Create the aggregate news for different date values\n",
    "\n",
    "news_agg = new_news.groupby('date', axis = 0)['title'].apply(concat_data).sort_index()"
   ]
  },
  {
   "cell_type": "code",
   "execution_count": 121,
   "metadata": {},
   "outputs": [],
   "source": [
    "# Add a new column named as news in the data and assigned the concatenated news to this column\n",
    "\n",
    "data['news'] = news_agg"
   ]
  },
  {
   "cell_type": "code",
   "execution_count": 122,
   "metadata": {},
   "outputs": [
    {
     "data": {
      "text/html": [
       "<div>\n",
       "<style scoped>\n",
       "    .dataframe tbody tr th:only-of-type {\n",
       "        vertical-align: middle;\n",
       "    }\n",
       "\n",
       "    .dataframe tbody tr th {\n",
       "        vertical-align: top;\n",
       "    }\n",
       "\n",
       "    .dataframe thead th {\n",
       "        text-align: right;\n",
       "    }\n",
       "</style>\n",
       "<table border=\"1\" class=\"dataframe\">\n",
       "  <thead>\n",
       "    <tr style=\"text-align: right;\">\n",
       "      <th></th>\n",
       "      <th>Open</th>\n",
       "      <th>High</th>\n",
       "      <th>Low</th>\n",
       "      <th>Close</th>\n",
       "      <th>Adj Close</th>\n",
       "      <th>Volume</th>\n",
       "      <th>news</th>\n",
       "    </tr>\n",
       "    <tr>\n",
       "      <th>Date</th>\n",
       "      <th></th>\n",
       "      <th></th>\n",
       "      <th></th>\n",
       "      <th></th>\n",
       "      <th></th>\n",
       "      <th></th>\n",
       "      <th></th>\n",
       "    </tr>\n",
       "  </thead>\n",
       "  <tbody>\n",
       "    <tr>\n",
       "      <th>2009-07-27</th>\n",
       "      <td>29.694656</td>\n",
       "      <td>29.751907</td>\n",
       "      <td>29.026718</td>\n",
       "      <td>29.360687</td>\n",
       "      <td>18.955812</td>\n",
       "      <td>21026758</td>\n",
       "      <td>Wall Street News Alert:  Stocks This Morning: ...</td>\n",
       "    </tr>\n",
       "    <tr>\n",
       "      <th>2009-07-28</th>\n",
       "      <td>29.303434</td>\n",
       "      <td>29.494274</td>\n",
       "      <td>28.406488</td>\n",
       "      <td>28.645039</td>\n",
       "      <td>18.493782</td>\n",
       "      <td>23627265</td>\n",
       "      <td>NaN</td>\n",
       "    </tr>\n",
       "    <tr>\n",
       "      <th>2009-07-29</th>\n",
       "      <td>28.635496</td>\n",
       "      <td>28.759542</td>\n",
       "      <td>28.158398</td>\n",
       "      <td>28.501907</td>\n",
       "      <td>18.401371</td>\n",
       "      <td>16696736</td>\n",
       "      <td>NaN</td>\n",
       "    </tr>\n",
       "    <tr>\n",
       "      <th>2009-07-30</th>\n",
       "      <td>28.826336</td>\n",
       "      <td>29.551527</td>\n",
       "      <td>28.511450</td>\n",
       "      <td>28.568703</td>\n",
       "      <td>18.444494</td>\n",
       "      <td>24300290</td>\n",
       "      <td>NaN</td>\n",
       "    </tr>\n",
       "    <tr>\n",
       "      <th>2009-07-31</th>\n",
       "      <td>28.816793</td>\n",
       "      <td>29.179390</td>\n",
       "      <td>28.540075</td>\n",
       "      <td>28.635496</td>\n",
       "      <td>18.487616</td>\n",
       "      <td>16269362</td>\n",
       "      <td>NaN</td>\n",
       "    </tr>\n",
       "  </tbody>\n",
       "</table>\n",
       "</div>"
      ],
      "text/plain": [
       "                 Open       High        Low      Close  Adj Close    Volume  \\\n",
       "Date                                                                          \n",
       "2009-07-27  29.694656  29.751907  29.026718  29.360687  18.955812  21026758   \n",
       "2009-07-28  29.303434  29.494274  28.406488  28.645039  18.493782  23627265   \n",
       "2009-07-29  28.635496  28.759542  28.158398  28.501907  18.401371  16696736   \n",
       "2009-07-30  28.826336  29.551527  28.511450  28.568703  18.444494  24300290   \n",
       "2009-07-31  28.816793  29.179390  28.540075  28.635496  18.487616  16269362   \n",
       "\n",
       "                                                         news  \n",
       "Date                                                           \n",
       "2009-07-27  Wall Street News Alert:  Stocks This Morning: ...  \n",
       "2009-07-28                                                NaN  \n",
       "2009-07-29                                                NaN  \n",
       "2009-07-30                                                NaN  \n",
       "2009-07-31                                                NaN  "
      ]
     },
     "execution_count": 122,
     "metadata": {},
     "output_type": "execute_result"
    }
   ],
   "source": [
    "data.head()"
   ]
  },
  {
   "cell_type": "code",
   "execution_count": 123,
   "metadata": {},
   "outputs": [
    {
     "data": {
      "text/plain": [
       "Open            0\n",
       "High            0\n",
       "Low             0\n",
       "Close           0\n",
       "Adj Close       0\n",
       "Volume          0\n",
       "news         1289\n",
       "dtype: int64"
      ]
     },
     "execution_count": 123,
     "metadata": {},
     "output_type": "execute_result"
    }
   ],
   "source": [
    "data.isna().sum()"
   ]
  },
  {
   "cell_type": "markdown",
   "metadata": {},
   "source": [
    "### It is clearly visible that there are some of the columns which are missing in the news values that means there are no news present for those particular days. Now to get rid of this issue we will consider the news for the day (which has no news to it) as the news of the previous day."
   ]
  },
  {
   "cell_type": "code",
   "execution_count": 125,
   "metadata": {},
   "outputs": [
    {
     "data": {
      "text/html": [
       "<div>\n",
       "<style scoped>\n",
       "    .dataframe tbody tr th:only-of-type {\n",
       "        vertical-align: middle;\n",
       "    }\n",
       "\n",
       "    .dataframe tbody tr th {\n",
       "        vertical-align: top;\n",
       "    }\n",
       "\n",
       "    .dataframe thead th {\n",
       "        text-align: right;\n",
       "    }\n",
       "</style>\n",
       "<table border=\"1\" class=\"dataframe\">\n",
       "  <thead>\n",
       "    <tr style=\"text-align: right;\">\n",
       "      <th></th>\n",
       "      <th>Open</th>\n",
       "      <th>High</th>\n",
       "      <th>Low</th>\n",
       "      <th>Close</th>\n",
       "      <th>Adj Close</th>\n",
       "      <th>Volume</th>\n",
       "      <th>news</th>\n",
       "    </tr>\n",
       "    <tr>\n",
       "      <th>Date</th>\n",
       "      <th></th>\n",
       "      <th></th>\n",
       "      <th></th>\n",
       "      <th></th>\n",
       "      <th></th>\n",
       "      <th></th>\n",
       "      <th></th>\n",
       "    </tr>\n",
       "  </thead>\n",
       "  <tbody>\n",
       "    <tr>\n",
       "      <th>2009-07-27</th>\n",
       "      <td>29.694656</td>\n",
       "      <td>29.751907</td>\n",
       "      <td>29.026718</td>\n",
       "      <td>29.360687</td>\n",
       "      <td>18.955812</td>\n",
       "      <td>21026758</td>\n",
       "      <td>Wall Street News Alert:  Stocks This Morning: ...</td>\n",
       "    </tr>\n",
       "    <tr>\n",
       "      <th>2009-07-28</th>\n",
       "      <td>29.303434</td>\n",
       "      <td>29.494274</td>\n",
       "      <td>28.406488</td>\n",
       "      <td>28.645039</td>\n",
       "      <td>18.493782</td>\n",
       "      <td>23627265</td>\n",
       "      <td>Wall Street News Alert:  Stocks This Morning: ...</td>\n",
       "    </tr>\n",
       "    <tr>\n",
       "      <th>2009-07-29</th>\n",
       "      <td>28.635496</td>\n",
       "      <td>28.759542</td>\n",
       "      <td>28.158398</td>\n",
       "      <td>28.501907</td>\n",
       "      <td>18.401371</td>\n",
       "      <td>16696736</td>\n",
       "      <td>Wall Street News Alert:  Stocks This Morning: ...</td>\n",
       "    </tr>\n",
       "    <tr>\n",
       "      <th>2009-07-30</th>\n",
       "      <td>28.826336</td>\n",
       "      <td>29.551527</td>\n",
       "      <td>28.511450</td>\n",
       "      <td>28.568703</td>\n",
       "      <td>18.444494</td>\n",
       "      <td>24300290</td>\n",
       "      <td>Wall Street News Alert:  Stocks This Morning: ...</td>\n",
       "    </tr>\n",
       "    <tr>\n",
       "      <th>2009-07-31</th>\n",
       "      <td>28.816793</td>\n",
       "      <td>29.179390</td>\n",
       "      <td>28.540075</td>\n",
       "      <td>28.635496</td>\n",
       "      <td>18.487616</td>\n",
       "      <td>16269362</td>\n",
       "      <td>Wall Street News Alert:  Stocks This Morning: ...</td>\n",
       "    </tr>\n",
       "  </tbody>\n",
       "</table>\n",
       "</div>"
      ],
      "text/plain": [
       "                 Open       High        Low      Close  Adj Close    Volume  \\\n",
       "Date                                                                          \n",
       "2009-07-27  29.694656  29.751907  29.026718  29.360687  18.955812  21026758   \n",
       "2009-07-28  29.303434  29.494274  28.406488  28.645039  18.493782  23627265   \n",
       "2009-07-29  28.635496  28.759542  28.158398  28.501907  18.401371  16696736   \n",
       "2009-07-30  28.826336  29.551527  28.511450  28.568703  18.444494  24300290   \n",
       "2009-07-31  28.816793  29.179390  28.540075  28.635496  18.487616  16269362   \n",
       "\n",
       "                                                         news  \n",
       "Date                                                           \n",
       "2009-07-27  Wall Street News Alert:  Stocks This Morning: ...  \n",
       "2009-07-28  Wall Street News Alert:  Stocks This Morning: ...  \n",
       "2009-07-29  Wall Street News Alert:  Stocks This Morning: ...  \n",
       "2009-07-30  Wall Street News Alert:  Stocks This Morning: ...  \n",
       "2009-07-31  Wall Street News Alert:  Stocks This Morning: ...  "
      ]
     },
     "execution_count": 125,
     "metadata": {},
     "output_type": "execute_result"
    }
   ],
   "source": [
    "data.ffill(inplace = True)\n",
    "\n",
    "data.head()"
   ]
  },
  {
   "cell_type": "code",
   "execution_count": 127,
   "metadata": {},
   "outputs": [
    {
     "data": {
      "text/plain": [
       "Open         0\n",
       "High         0\n",
       "Low          0\n",
       "Close        0\n",
       "Adj Close    0\n",
       "Volume       0\n",
       "news         0\n",
       "dtype: int64"
      ]
     },
     "execution_count": 127,
     "metadata": {},
     "output_type": "execute_result"
    }
   ],
   "source": [
    "data.isna().sum()"
   ]
  },
  {
   "cell_type": "code",
   "execution_count": null,
   "metadata": {},
   "outputs": [],
   "source": []
  }
 ],
 "metadata": {
  "interpreter": {
   "hash": "343986f8465ea7f501665066340a6e4a7b639b52c302955116ce941ba04487e2"
  },
  "kernelspec": {
   "display_name": "Python 3.9.7 64-bit ('tensorflow': conda)",
   "language": "python",
   "name": "python3"
  },
  "language_info": {
   "codemirror_mode": {
    "name": "ipython",
    "version": 3
   },
   "file_extension": ".py",
   "mimetype": "text/x-python",
   "name": "python",
   "nbconvert_exporter": "python",
   "pygments_lexer": "ipython3",
   "version": "3.9.7"
  },
  "orig_nbformat": 4
 },
 "nbformat": 4,
 "nbformat_minor": 2
}
