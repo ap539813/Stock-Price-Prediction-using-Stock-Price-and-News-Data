{
 "cells": [
  {
   "cell_type": "code",
   "execution_count": 1,
   "metadata": {},
   "outputs": [],
   "source": [
    "import pandas as pd\n",
    "import numpy as np"
   ]
  },
  {
   "cell_type": "markdown",
   "metadata": {},
   "source": [
    "## Load the stock news data"
   ]
  },
  {
   "cell_type": "code",
   "execution_count": 2,
   "metadata": {},
   "outputs": [
    {
     "data": {
      "text/html": [
       "<div>\n",
       "<style scoped>\n",
       "    .dataframe tbody tr th:only-of-type {\n",
       "        vertical-align: middle;\n",
       "    }\n",
       "\n",
       "    .dataframe tbody tr th {\n",
       "        vertical-align: top;\n",
       "    }\n",
       "\n",
       "    .dataframe thead th {\n",
       "        text-align: right;\n",
       "    }\n",
       "</style>\n",
       "<table border=\"1\" class=\"dataframe\">\n",
       "  <thead>\n",
       "    <tr style=\"text-align: right;\">\n",
       "      <th></th>\n",
       "      <th>Unnamed: 0</th>\n",
       "      <th>title</th>\n",
       "      <th>date</th>\n",
       "      <th>stock</th>\n",
       "    </tr>\n",
       "  </thead>\n",
       "  <tbody>\n",
       "    <tr>\n",
       "      <th>0</th>\n",
       "      <td>0.0</td>\n",
       "      <td>Stocks That Hit 52-Week Highs On Friday</td>\n",
       "      <td>2020-06-05 10:30:00-04:00</td>\n",
       "      <td>A</td>\n",
       "    </tr>\n",
       "    <tr>\n",
       "      <th>1</th>\n",
       "      <td>1.0</td>\n",
       "      <td>Stocks That Hit 52-Week Highs On Wednesday</td>\n",
       "      <td>2020-06-03 10:45:00-04:00</td>\n",
       "      <td>A</td>\n",
       "    </tr>\n",
       "    <tr>\n",
       "      <th>2</th>\n",
       "      <td>2.0</td>\n",
       "      <td>71 Biggest Movers From Friday</td>\n",
       "      <td>2020-05-26 04:30:00-04:00</td>\n",
       "      <td>A</td>\n",
       "    </tr>\n",
       "    <tr>\n",
       "      <th>3</th>\n",
       "      <td>3.0</td>\n",
       "      <td>46 Stocks Moving In Friday's Mid-Day Session</td>\n",
       "      <td>2020-05-22 12:45:00-04:00</td>\n",
       "      <td>A</td>\n",
       "    </tr>\n",
       "    <tr>\n",
       "      <th>4</th>\n",
       "      <td>4.0</td>\n",
       "      <td>B of A Securities Maintains Neutral on Agilent...</td>\n",
       "      <td>2020-05-22 11:38:00-04:00</td>\n",
       "      <td>A</td>\n",
       "    </tr>\n",
       "  </tbody>\n",
       "</table>\n",
       "</div>"
      ],
      "text/plain": [
       "   Unnamed: 0                                              title  \\\n",
       "0         0.0            Stocks That Hit 52-Week Highs On Friday   \n",
       "1         1.0         Stocks That Hit 52-Week Highs On Wednesday   \n",
       "2         2.0                      71 Biggest Movers From Friday   \n",
       "3         3.0       46 Stocks Moving In Friday's Mid-Day Session   \n",
       "4         4.0  B of A Securities Maintains Neutral on Agilent...   \n",
       "\n",
       "                        date stock  \n",
       "0  2020-06-05 10:30:00-04:00     A  \n",
       "1  2020-06-03 10:45:00-04:00     A  \n",
       "2  2020-05-26 04:30:00-04:00     A  \n",
       "3  2020-05-22 12:45:00-04:00     A  \n",
       "4  2020-05-22 11:38:00-04:00     A  "
      ]
     },
     "execution_count": 2,
     "metadata": {},
     "output_type": "execute_result"
    }
   ],
   "source": [
    "news = pd.read_csv('analyst_ratings_processed.csv')\n",
    "news.head()"
   ]
  },
  {
   "cell_type": "code",
   "execution_count": 3,
   "metadata": {},
   "outputs": [
    {
     "data": {
      "text/plain": [
       "Index(['Unnamed: 0', 'title', 'date', 'stock'], dtype='object')"
      ]
     },
     "execution_count": 3,
     "metadata": {},
     "output_type": "execute_result"
    }
   ],
   "source": [
    "news.columns"
   ]
  },
  {
   "cell_type": "code",
   "execution_count": 4,
   "metadata": {},
   "outputs": [
    {
     "data": {
      "text/html": [
       "<div>\n",
       "<style scoped>\n",
       "    .dataframe tbody tr th:only-of-type {\n",
       "        vertical-align: middle;\n",
       "    }\n",
       "\n",
       "    .dataframe tbody tr th {\n",
       "        vertical-align: top;\n",
       "    }\n",
       "\n",
       "    .dataframe thead th {\n",
       "        text-align: right;\n",
       "    }\n",
       "</style>\n",
       "<table border=\"1\" class=\"dataframe\">\n",
       "  <thead>\n",
       "    <tr style=\"text-align: right;\">\n",
       "      <th></th>\n",
       "      <th>title</th>\n",
       "      <th>date</th>\n",
       "      <th>stock</th>\n",
       "    </tr>\n",
       "  </thead>\n",
       "  <tbody>\n",
       "    <tr>\n",
       "      <th>0</th>\n",
       "      <td>Stocks That Hit 52-Week Highs On Friday</td>\n",
       "      <td>2020-06-05 10:30:00-04:00</td>\n",
       "      <td>A</td>\n",
       "    </tr>\n",
       "    <tr>\n",
       "      <th>1</th>\n",
       "      <td>Stocks That Hit 52-Week Highs On Wednesday</td>\n",
       "      <td>2020-06-03 10:45:00-04:00</td>\n",
       "      <td>A</td>\n",
       "    </tr>\n",
       "    <tr>\n",
       "      <th>2</th>\n",
       "      <td>71 Biggest Movers From Friday</td>\n",
       "      <td>2020-05-26 04:30:00-04:00</td>\n",
       "      <td>A</td>\n",
       "    </tr>\n",
       "    <tr>\n",
       "      <th>3</th>\n",
       "      <td>46 Stocks Moving In Friday's Mid-Day Session</td>\n",
       "      <td>2020-05-22 12:45:00-04:00</td>\n",
       "      <td>A</td>\n",
       "    </tr>\n",
       "    <tr>\n",
       "      <th>4</th>\n",
       "      <td>B of A Securities Maintains Neutral on Agilent...</td>\n",
       "      <td>2020-05-22 11:38:00-04:00</td>\n",
       "      <td>A</td>\n",
       "    </tr>\n",
       "  </tbody>\n",
       "</table>\n",
       "</div>"
      ],
      "text/plain": [
       "                                               title  \\\n",
       "0            Stocks That Hit 52-Week Highs On Friday   \n",
       "1         Stocks That Hit 52-Week Highs On Wednesday   \n",
       "2                      71 Biggest Movers From Friday   \n",
       "3       46 Stocks Moving In Friday's Mid-Day Session   \n",
       "4  B of A Securities Maintains Neutral on Agilent...   \n",
       "\n",
       "                        date stock  \n",
       "0  2020-06-05 10:30:00-04:00     A  \n",
       "1  2020-06-03 10:45:00-04:00     A  \n",
       "2  2020-05-26 04:30:00-04:00     A  \n",
       "3  2020-05-22 12:45:00-04:00     A  \n",
       "4  2020-05-22 11:38:00-04:00     A  "
      ]
     },
     "execution_count": 4,
     "metadata": {},
     "output_type": "execute_result"
    }
   ],
   "source": [
    "news = news[['title', 'date', 'stock']]\n",
    "news.head()"
   ]
  },
  {
   "cell_type": "code",
   "execution_count": 5,
   "metadata": {},
   "outputs": [
    {
     "data": {
      "text/plain": [
       "array(['A', 'AAMC', 'AAME', ..., 'ZU', 'ZUMZ', 'ZX'], dtype=object)"
      ]
     },
     "execution_count": 5,
     "metadata": {},
     "output_type": "execute_result"
    }
   ],
   "source": [
    "# Lets have a look on the sunique stocks we have\n",
    "\n",
    "news['stock'].unique()"
   ]
  },
  {
   "cell_type": "code",
   "execution_count": 6,
   "metadata": {},
   "outputs": [
    {
     "data": {
      "text/plain": [
       "'MRK'"
      ]
     },
     "execution_count": 6,
     "metadata": {},
     "output_type": "execute_result"
    }
   ],
   "source": [
    "# Now let's see how many instances we have for each stock\n",
    "\n",
    "max_count = news.groupby('stock').count().iloc[:, 0].max()\n",
    "stock_name = news.groupby('stock').count().iloc[:, 0][news.groupby('stock').count().iloc[:, 0] == max_count].index[0]\n",
    "stock_name\n"
   ]
  },
  {
   "cell_type": "code",
   "execution_count": 7,
   "metadata": {},
   "outputs": [
    {
     "data": {
      "text/html": [
       "<div>\n",
       "<style scoped>\n",
       "    .dataframe tbody tr th:only-of-type {\n",
       "        vertical-align: middle;\n",
       "    }\n",
       "\n",
       "    .dataframe tbody tr th {\n",
       "        vertical-align: top;\n",
       "    }\n",
       "\n",
       "    .dataframe thead th {\n",
       "        text-align: right;\n",
       "    }\n",
       "</style>\n",
       "<table border=\"1\" class=\"dataframe\">\n",
       "  <thead>\n",
       "    <tr style=\"text-align: right;\">\n",
       "      <th></th>\n",
       "      <th>title</th>\n",
       "      <th>date</th>\n",
       "      <th>stock</th>\n",
       "    </tr>\n",
       "  </thead>\n",
       "  <tbody>\n",
       "    <tr>\n",
       "      <th>0</th>\n",
       "      <td>Shares of several healthcare companies are tra...</td>\n",
       "      <td>2020-06-11 10:22:00-04:00</td>\n",
       "      <td>MRK</td>\n",
       "    </tr>\n",
       "    <tr>\n",
       "      <th>1</th>\n",
       "      <td>Johnson &amp; Johnson To Start Coronavirus Vaccine...</td>\n",
       "      <td>2020-06-11 00:16:00-04:00</td>\n",
       "      <td>MRK</td>\n",
       "    </tr>\n",
       "    <tr>\n",
       "      <th>2</th>\n",
       "      <td>The Daily Biotech Pulse: Keytruda Setback For ...</td>\n",
       "      <td>2020-06-10 07:30:00-04:00</td>\n",
       "      <td>MRK</td>\n",
       "    </tr>\n",
       "    <tr>\n",
       "      <th>3</th>\n",
       "      <td>Merck Announces That The Phase 3 KEYNOTE-361 T...</td>\n",
       "      <td>2020-06-09 16:13:00-04:00</td>\n",
       "      <td>MRK</td>\n",
       "    </tr>\n",
       "    <tr>\n",
       "      <th>4</th>\n",
       "      <td>The Week Ahead In Biotech: Viela FDA Decision,...</td>\n",
       "      <td>2020-06-07 13:43:00-04:00</td>\n",
       "      <td>MRK</td>\n",
       "    </tr>\n",
       "  </tbody>\n",
       "</table>\n",
       "</div>"
      ],
      "text/plain": [
       "                                               title  \\\n",
       "0  Shares of several healthcare companies are tra...   \n",
       "1  Johnson & Johnson To Start Coronavirus Vaccine...   \n",
       "2  The Daily Biotech Pulse: Keytruda Setback For ...   \n",
       "3  Merck Announces That The Phase 3 KEYNOTE-361 T...   \n",
       "4  The Week Ahead In Biotech: Viela FDA Decision,...   \n",
       "\n",
       "                        date stock  \n",
       "0  2020-06-11 10:22:00-04:00   MRK  \n",
       "1  2020-06-11 00:16:00-04:00   MRK  \n",
       "2  2020-06-10 07:30:00-04:00   MRK  \n",
       "3  2020-06-09 16:13:00-04:00   MRK  \n",
       "4  2020-06-07 13:43:00-04:00   MRK  "
      ]
     },
     "execution_count": 7,
     "metadata": {},
     "output_type": "execute_result"
    }
   ],
   "source": [
    "# lets extract the news for this stock\n",
    "new_news = news[news['stock'] == stock_name].reset_index(drop = True)\n",
    "\n",
    "new_news.head()"
   ]
  },
  {
   "cell_type": "code",
   "execution_count": 8,
   "metadata": {},
   "outputs": [
    {
     "name": "stdout",
     "output_type": "stream",
     "text": [
      "<class 'pandas.core.frame.DataFrame'>\n",
      "RangeIndex: 3334 entries, 0 to 3333\n",
      "Data columns (total 3 columns):\n",
      " #   Column  Non-Null Count  Dtype \n",
      "---  ------  --------------  ----- \n",
      " 0   title   3334 non-null   object\n",
      " 1   date    3334 non-null   object\n",
      " 2   stock   3334 non-null   object\n",
      "dtypes: object(3)\n",
      "memory usage: 78.3+ KB\n"
     ]
    }
   ],
   "source": [
    "new_news.info()"
   ]
  },
  {
   "cell_type": "code",
   "execution_count": 9,
   "metadata": {},
   "outputs": [
    {
     "data": {
      "text/html": [
       "<div>\n",
       "<style scoped>\n",
       "    .dataframe tbody tr th:only-of-type {\n",
       "        vertical-align: middle;\n",
       "    }\n",
       "\n",
       "    .dataframe tbody tr th {\n",
       "        vertical-align: top;\n",
       "    }\n",
       "\n",
       "    .dataframe thead th {\n",
       "        text-align: right;\n",
       "    }\n",
       "</style>\n",
       "<table border=\"1\" class=\"dataframe\">\n",
       "  <thead>\n",
       "    <tr style=\"text-align: right;\">\n",
       "      <th></th>\n",
       "      <th>title</th>\n",
       "      <th>date</th>\n",
       "      <th>stock</th>\n",
       "    </tr>\n",
       "  </thead>\n",
       "  <tbody>\n",
       "    <tr>\n",
       "      <th>0</th>\n",
       "      <td>Shares of several healthcare companies are tra...</td>\n",
       "      <td>2020-06-11</td>\n",
       "      <td>MRK</td>\n",
       "    </tr>\n",
       "    <tr>\n",
       "      <th>1</th>\n",
       "      <td>Johnson &amp; Johnson To Start Coronavirus Vaccine...</td>\n",
       "      <td>2020-06-11</td>\n",
       "      <td>MRK</td>\n",
       "    </tr>\n",
       "    <tr>\n",
       "      <th>2</th>\n",
       "      <td>The Daily Biotech Pulse: Keytruda Setback For ...</td>\n",
       "      <td>2020-06-10</td>\n",
       "      <td>MRK</td>\n",
       "    </tr>\n",
       "    <tr>\n",
       "      <th>3</th>\n",
       "      <td>Merck Announces That The Phase 3 KEYNOTE-361 T...</td>\n",
       "      <td>2020-06-09</td>\n",
       "      <td>MRK</td>\n",
       "    </tr>\n",
       "    <tr>\n",
       "      <th>4</th>\n",
       "      <td>The Week Ahead In Biotech: Viela FDA Decision,...</td>\n",
       "      <td>2020-06-07</td>\n",
       "      <td>MRK</td>\n",
       "    </tr>\n",
       "  </tbody>\n",
       "</table>\n",
       "</div>"
      ],
      "text/plain": [
       "                                               title        date stock\n",
       "0  Shares of several healthcare companies are tra...  2020-06-11   MRK\n",
       "1  Johnson & Johnson To Start Coronavirus Vaccine...  2020-06-11   MRK\n",
       "2  The Daily Biotech Pulse: Keytruda Setback For ...  2020-06-10   MRK\n",
       "3  Merck Announces That The Phase 3 KEYNOTE-361 T...  2020-06-09   MRK\n",
       "4  The Week Ahead In Biotech: Viela FDA Decision,...  2020-06-07   MRK"
      ]
     },
     "execution_count": 9,
     "metadata": {},
     "output_type": "execute_result"
    }
   ],
   "source": [
    "new_news['date'] = pd.to_datetime(new_news['date'])\n",
    "new_news['date'] = [item.date() for item in new_news['date']]\n",
    "new_news.head()"
   ]
  },
  {
   "cell_type": "code",
   "execution_count": 10,
   "metadata": {},
   "outputs": [
    {
     "name": "stdout",
     "output_type": "stream",
     "text": [
      "<class 'pandas.core.frame.DataFrame'>\n",
      "RangeIndex: 3334 entries, 0 to 3333\n",
      "Data columns (total 3 columns):\n",
      " #   Column  Non-Null Count  Dtype \n",
      "---  ------  --------------  ----- \n",
      " 0   title   3334 non-null   object\n",
      " 1   date    3334 non-null   object\n",
      " 2   stock   3334 non-null   object\n",
      "dtypes: object(3)\n",
      "memory usage: 78.3+ KB\n"
     ]
    }
   ],
   "source": [
    "new_news.info()"
   ]
  },
  {
   "cell_type": "markdown",
   "metadata": {},
   "source": [
    "### Now since we have filtered the news for the stock name MRK, this is time to get the stock prices for his particular stock."
   ]
  },
  {
   "cell_type": "code",
   "execution_count": 11,
   "metadata": {},
   "outputs": [
    {
     "data": {
      "text/plain": [
       "(datetime.date(2020, 6, 11), datetime.date(2009, 7, 27))"
      ]
     },
     "execution_count": 11,
     "metadata": {},
     "output_type": "execute_result"
    }
   ],
   "source": [
    "# First of all check the timestamp\n",
    "\n",
    "start_date = new_news['date'].iloc[0]\n",
    "end_date = new_news['date'].iloc[-1]\n",
    "\n",
    "start_date, end_date"
   ]
  },
  {
   "cell_type": "code",
   "execution_count": 12,
   "metadata": {},
   "outputs": [
    {
     "name": "stdout",
     "output_type": "stream",
     "text": [
      "Requirement already satisfied: yfinance in /Users/ankushpandey/miniforge3/envs/tensorflow/lib/python3.9/site-packages (0.1.68)\n",
      "Requirement already satisfied: numpy>=1.15 in /Users/ankushpandey/miniforge3/envs/tensorflow/lib/python3.9/site-packages (from yfinance) (1.21.2)\n",
      "Requirement already satisfied: lxml>=4.5.1 in /Users/ankushpandey/miniforge3/envs/tensorflow/lib/python3.9/site-packages (from yfinance) (4.6.3)\n",
      "Requirement already satisfied: requests>=2.26 in /Users/ankushpandey/miniforge3/envs/tensorflow/lib/python3.9/site-packages (from yfinance) (2.26.0)\n",
      "Requirement already satisfied: pandas>=0.24 in /Users/ankushpandey/miniforge3/envs/tensorflow/lib/python3.9/site-packages (from yfinance) (1.3.1)\n",
      "Requirement already satisfied: multitasking>=0.0.7 in /Users/ankushpandey/miniforge3/envs/tensorflow/lib/python3.9/site-packages (from yfinance) (0.0.10)\n",
      "Requirement already satisfied: python-dateutil>=2.7.3 in /Users/ankushpandey/miniforge3/envs/tensorflow/lib/python3.9/site-packages (from pandas>=0.24->yfinance) (2.8.2)\n",
      "Requirement already satisfied: pytz>=2017.3 in /Users/ankushpandey/miniforge3/envs/tensorflow/lib/python3.9/site-packages (from pandas>=0.24->yfinance) (2021.3)\n",
      "Requirement already satisfied: six>=1.5 in /Users/ankushpandey/miniforge3/envs/tensorflow/lib/python3.9/site-packages (from python-dateutil>=2.7.3->pandas>=0.24->yfinance) (1.12.0)\n",
      "Requirement already satisfied: charset-normalizer~=2.0.0 in /Users/ankushpandey/miniforge3/envs/tensorflow/lib/python3.9/site-packages (from requests>=2.26->yfinance) (2.0.4)\n",
      "Requirement already satisfied: urllib3<1.27,>=1.21.1 in /Users/ankushpandey/miniforge3/envs/tensorflow/lib/python3.9/site-packages (from requests>=2.26->yfinance) (1.26.7)\n",
      "Requirement already satisfied: certifi>=2017.4.17 in /Users/ankushpandey/miniforge3/envs/tensorflow/lib/python3.9/site-packages (from requests>=2.26->yfinance) (2021.5.30)\n",
      "Requirement already satisfied: idna<4,>=2.5 in /Users/ankushpandey/miniforge3/envs/tensorflow/lib/python3.9/site-packages (from requests>=2.26->yfinance) (3.2)\n"
     ]
    }
   ],
   "source": [
    "! pip install yfinance"
   ]
  },
  {
   "cell_type": "code",
   "execution_count": 13,
   "metadata": {},
   "outputs": [
    {
     "name": "stdout",
     "output_type": "stream",
     "text": [
      "[*********************100%***********************]  1 of 1 completed\n"
     ]
    }
   ],
   "source": [
    "# Import Yahoo finance library\n",
    "\n",
    "import yfinance as yf\n",
    "\n",
    "# Get the data for the stock MRK\n",
    "data = yf.download('MRK','2009-07-27','2020-06-11')"
   ]
  },
  {
   "cell_type": "code",
   "execution_count": 14,
   "metadata": {},
   "outputs": [
    {
     "data": {
      "text/html": [
       "<div>\n",
       "<style scoped>\n",
       "    .dataframe tbody tr th:only-of-type {\n",
       "        vertical-align: middle;\n",
       "    }\n",
       "\n",
       "    .dataframe tbody tr th {\n",
       "        vertical-align: top;\n",
       "    }\n",
       "\n",
       "    .dataframe thead th {\n",
       "        text-align: right;\n",
       "    }\n",
       "</style>\n",
       "<table border=\"1\" class=\"dataframe\">\n",
       "  <thead>\n",
       "    <tr style=\"text-align: right;\">\n",
       "      <th></th>\n",
       "      <th>Open</th>\n",
       "      <th>High</th>\n",
       "      <th>Low</th>\n",
       "      <th>Close</th>\n",
       "      <th>Adj Close</th>\n",
       "      <th>Volume</th>\n",
       "    </tr>\n",
       "    <tr>\n",
       "      <th>Date</th>\n",
       "      <th></th>\n",
       "      <th></th>\n",
       "      <th></th>\n",
       "      <th></th>\n",
       "      <th></th>\n",
       "      <th></th>\n",
       "    </tr>\n",
       "  </thead>\n",
       "  <tbody>\n",
       "    <tr>\n",
       "      <th>2009-07-27</th>\n",
       "      <td>29.694656</td>\n",
       "      <td>29.751907</td>\n",
       "      <td>29.026718</td>\n",
       "      <td>29.360687</td>\n",
       "      <td>18.955826</td>\n",
       "      <td>21026758</td>\n",
       "    </tr>\n",
       "    <tr>\n",
       "      <th>2009-07-28</th>\n",
       "      <td>29.303434</td>\n",
       "      <td>29.494274</td>\n",
       "      <td>28.406488</td>\n",
       "      <td>28.645039</td>\n",
       "      <td>18.493778</td>\n",
       "      <td>23627265</td>\n",
       "    </tr>\n",
       "    <tr>\n",
       "      <th>2009-07-29</th>\n",
       "      <td>28.635496</td>\n",
       "      <td>28.759542</td>\n",
       "      <td>28.158398</td>\n",
       "      <td>28.501907</td>\n",
       "      <td>18.401373</td>\n",
       "      <td>16696736</td>\n",
       "    </tr>\n",
       "    <tr>\n",
       "      <th>2009-07-30</th>\n",
       "      <td>28.826336</td>\n",
       "      <td>29.551527</td>\n",
       "      <td>28.511450</td>\n",
       "      <td>28.568703</td>\n",
       "      <td>18.444494</td>\n",
       "      <td>24300290</td>\n",
       "    </tr>\n",
       "    <tr>\n",
       "      <th>2009-07-31</th>\n",
       "      <td>28.816793</td>\n",
       "      <td>29.179390</td>\n",
       "      <td>28.540075</td>\n",
       "      <td>28.635496</td>\n",
       "      <td>18.487617</td>\n",
       "      <td>16269362</td>\n",
       "    </tr>\n",
       "  </tbody>\n",
       "</table>\n",
       "</div>"
      ],
      "text/plain": [
       "                 Open       High        Low      Close  Adj Close    Volume\n",
       "Date                                                                       \n",
       "2009-07-27  29.694656  29.751907  29.026718  29.360687  18.955826  21026758\n",
       "2009-07-28  29.303434  29.494274  28.406488  28.645039  18.493778  23627265\n",
       "2009-07-29  28.635496  28.759542  28.158398  28.501907  18.401373  16696736\n",
       "2009-07-30  28.826336  29.551527  28.511450  28.568703  18.444494  24300290\n",
       "2009-07-31  28.816793  29.179390  28.540075  28.635496  18.487617  16269362"
      ]
     },
     "execution_count": 14,
     "metadata": {},
     "output_type": "execute_result"
    }
   ],
   "source": [
    "# Print 1st five rows of the data\n",
    "\n",
    "data.head()"
   ]
  },
  {
   "cell_type": "code",
   "execution_count": 15,
   "metadata": {},
   "outputs": [
    {
     "name": "stdout",
     "output_type": "stream",
     "text": [
      "<class 'pandas.core.frame.DataFrame'>\n",
      "DatetimeIndex: 2738 entries, 2009-07-27 to 2020-06-10\n",
      "Data columns (total 6 columns):\n",
      " #   Column     Non-Null Count  Dtype  \n",
      "---  ------     --------------  -----  \n",
      " 0   Open       2738 non-null   float64\n",
      " 1   High       2738 non-null   float64\n",
      " 2   Low        2738 non-null   float64\n",
      " 3   Close      2738 non-null   float64\n",
      " 4   Adj Close  2738 non-null   float64\n",
      " 5   Volume     2738 non-null   int64  \n",
      "dtypes: float64(5), int64(1)\n",
      "memory usage: 149.7 KB\n"
     ]
    }
   ],
   "source": [
    "# Look at the information of columns of the data using .info method\n",
    "\n",
    "data.info()"
   ]
  },
  {
   "cell_type": "markdown",
   "metadata": {},
   "source": [
    "### By now we have two different data frames named as new_news and data, the news dataframe contains news related to the stock and data dataframe contains the information about the stock values yeah. Before we merge both the data frames in a single data frame we will need to aggregate the news with respect to date.\n",
    "Before we merge both the data frames in a single data frame we will need to aggregate the news with respect to date.\n",
    "To aggregate the news with respect to date we will concatenate the rows which have the same date."
   ]
  },
  {
   "cell_type": "code",
   "execution_count": 16,
   "metadata": {},
   "outputs": [],
   "source": [
    "# Function used to concatenate the news data while using group by function\n",
    "\n",
    "def concat_data(x):\n",
    "    return ' '.join(x)"
   ]
  },
  {
   "cell_type": "code",
   "execution_count": 17,
   "metadata": {},
   "outputs": [],
   "source": [
    "# Create the aggregate news for different date values\n",
    "\n",
    "news_agg = new_news.groupby('date', axis = 0)['title'].apply(concat_data).sort_index()"
   ]
  },
  {
   "cell_type": "code",
   "execution_count": 18,
   "metadata": {},
   "outputs": [],
   "source": [
    "# Add a new column named as news in the data and assigned the concatenated news to this column\n",
    "\n",
    "data['news'] = news_agg"
   ]
  },
  {
   "cell_type": "code",
   "execution_count": 19,
   "metadata": {},
   "outputs": [
    {
     "data": {
      "text/html": [
       "<div>\n",
       "<style scoped>\n",
       "    .dataframe tbody tr th:only-of-type {\n",
       "        vertical-align: middle;\n",
       "    }\n",
       "\n",
       "    .dataframe tbody tr th {\n",
       "        vertical-align: top;\n",
       "    }\n",
       "\n",
       "    .dataframe thead th {\n",
       "        text-align: right;\n",
       "    }\n",
       "</style>\n",
       "<table border=\"1\" class=\"dataframe\">\n",
       "  <thead>\n",
       "    <tr style=\"text-align: right;\">\n",
       "      <th></th>\n",
       "      <th>Open</th>\n",
       "      <th>High</th>\n",
       "      <th>Low</th>\n",
       "      <th>Close</th>\n",
       "      <th>Adj Close</th>\n",
       "      <th>Volume</th>\n",
       "      <th>news</th>\n",
       "    </tr>\n",
       "    <tr>\n",
       "      <th>Date</th>\n",
       "      <th></th>\n",
       "      <th></th>\n",
       "      <th></th>\n",
       "      <th></th>\n",
       "      <th></th>\n",
       "      <th></th>\n",
       "      <th></th>\n",
       "    </tr>\n",
       "  </thead>\n",
       "  <tbody>\n",
       "    <tr>\n",
       "      <th>2009-07-27</th>\n",
       "      <td>29.694656</td>\n",
       "      <td>29.751907</td>\n",
       "      <td>29.026718</td>\n",
       "      <td>29.360687</td>\n",
       "      <td>18.955826</td>\n",
       "      <td>21026758</td>\n",
       "      <td>Wall Street News Alert:  Stocks This Morning: ...</td>\n",
       "    </tr>\n",
       "    <tr>\n",
       "      <th>2009-07-28</th>\n",
       "      <td>29.303434</td>\n",
       "      <td>29.494274</td>\n",
       "      <td>28.406488</td>\n",
       "      <td>28.645039</td>\n",
       "      <td>18.493778</td>\n",
       "      <td>23627265</td>\n",
       "      <td>NaN</td>\n",
       "    </tr>\n",
       "    <tr>\n",
       "      <th>2009-07-29</th>\n",
       "      <td>28.635496</td>\n",
       "      <td>28.759542</td>\n",
       "      <td>28.158398</td>\n",
       "      <td>28.501907</td>\n",
       "      <td>18.401373</td>\n",
       "      <td>16696736</td>\n",
       "      <td>NaN</td>\n",
       "    </tr>\n",
       "    <tr>\n",
       "      <th>2009-07-30</th>\n",
       "      <td>28.826336</td>\n",
       "      <td>29.551527</td>\n",
       "      <td>28.511450</td>\n",
       "      <td>28.568703</td>\n",
       "      <td>18.444494</td>\n",
       "      <td>24300290</td>\n",
       "      <td>NaN</td>\n",
       "    </tr>\n",
       "    <tr>\n",
       "      <th>2009-07-31</th>\n",
       "      <td>28.816793</td>\n",
       "      <td>29.179390</td>\n",
       "      <td>28.540075</td>\n",
       "      <td>28.635496</td>\n",
       "      <td>18.487617</td>\n",
       "      <td>16269362</td>\n",
       "      <td>NaN</td>\n",
       "    </tr>\n",
       "  </tbody>\n",
       "</table>\n",
       "</div>"
      ],
      "text/plain": [
       "                 Open       High        Low      Close  Adj Close    Volume  \\\n",
       "Date                                                                          \n",
       "2009-07-27  29.694656  29.751907  29.026718  29.360687  18.955826  21026758   \n",
       "2009-07-28  29.303434  29.494274  28.406488  28.645039  18.493778  23627265   \n",
       "2009-07-29  28.635496  28.759542  28.158398  28.501907  18.401373  16696736   \n",
       "2009-07-30  28.826336  29.551527  28.511450  28.568703  18.444494  24300290   \n",
       "2009-07-31  28.816793  29.179390  28.540075  28.635496  18.487617  16269362   \n",
       "\n",
       "                                                         news  \n",
       "Date                                                           \n",
       "2009-07-27  Wall Street News Alert:  Stocks This Morning: ...  \n",
       "2009-07-28                                                NaN  \n",
       "2009-07-29                                                NaN  \n",
       "2009-07-30                                                NaN  \n",
       "2009-07-31                                                NaN  "
      ]
     },
     "execution_count": 19,
     "metadata": {},
     "output_type": "execute_result"
    }
   ],
   "source": [
    "data.head()"
   ]
  },
  {
   "cell_type": "code",
   "execution_count": 20,
   "metadata": {},
   "outputs": [
    {
     "data": {
      "text/plain": [
       "Open            0\n",
       "High            0\n",
       "Low             0\n",
       "Close           0\n",
       "Adj Close       0\n",
       "Volume          0\n",
       "news         1289\n",
       "dtype: int64"
      ]
     },
     "execution_count": 20,
     "metadata": {},
     "output_type": "execute_result"
    }
   ],
   "source": [
    "data.isna().sum()"
   ]
  },
  {
   "cell_type": "markdown",
   "metadata": {},
   "source": [
    "### It is clearly visible that there are some of the columns which are missing in the news values that means there are no news present for those particular days. Now to get rid of this issue we will consider the news for the day (which has no news to it) as the news of the previous day."
   ]
  },
  {
   "cell_type": "code",
   "execution_count": 21,
   "metadata": {},
   "outputs": [
    {
     "data": {
      "text/html": [
       "<div>\n",
       "<style scoped>\n",
       "    .dataframe tbody tr th:only-of-type {\n",
       "        vertical-align: middle;\n",
       "    }\n",
       "\n",
       "    .dataframe tbody tr th {\n",
       "        vertical-align: top;\n",
       "    }\n",
       "\n",
       "    .dataframe thead th {\n",
       "        text-align: right;\n",
       "    }\n",
       "</style>\n",
       "<table border=\"1\" class=\"dataframe\">\n",
       "  <thead>\n",
       "    <tr style=\"text-align: right;\">\n",
       "      <th></th>\n",
       "      <th>Open</th>\n",
       "      <th>High</th>\n",
       "      <th>Low</th>\n",
       "      <th>Close</th>\n",
       "      <th>Adj Close</th>\n",
       "      <th>Volume</th>\n",
       "      <th>news</th>\n",
       "    </tr>\n",
       "    <tr>\n",
       "      <th>Date</th>\n",
       "      <th></th>\n",
       "      <th></th>\n",
       "      <th></th>\n",
       "      <th></th>\n",
       "      <th></th>\n",
       "      <th></th>\n",
       "      <th></th>\n",
       "    </tr>\n",
       "  </thead>\n",
       "  <tbody>\n",
       "    <tr>\n",
       "      <th>2009-07-27</th>\n",
       "      <td>29.694656</td>\n",
       "      <td>29.751907</td>\n",
       "      <td>29.026718</td>\n",
       "      <td>29.360687</td>\n",
       "      <td>18.955826</td>\n",
       "      <td>21026758</td>\n",
       "      <td>Wall Street News Alert:  Stocks This Morning: ...</td>\n",
       "    </tr>\n",
       "    <tr>\n",
       "      <th>2009-07-28</th>\n",
       "      <td>29.303434</td>\n",
       "      <td>29.494274</td>\n",
       "      <td>28.406488</td>\n",
       "      <td>28.645039</td>\n",
       "      <td>18.493778</td>\n",
       "      <td>23627265</td>\n",
       "      <td>Wall Street News Alert:  Stocks This Morning: ...</td>\n",
       "    </tr>\n",
       "    <tr>\n",
       "      <th>2009-07-29</th>\n",
       "      <td>28.635496</td>\n",
       "      <td>28.759542</td>\n",
       "      <td>28.158398</td>\n",
       "      <td>28.501907</td>\n",
       "      <td>18.401373</td>\n",
       "      <td>16696736</td>\n",
       "      <td>Wall Street News Alert:  Stocks This Morning: ...</td>\n",
       "    </tr>\n",
       "    <tr>\n",
       "      <th>2009-07-30</th>\n",
       "      <td>28.826336</td>\n",
       "      <td>29.551527</td>\n",
       "      <td>28.511450</td>\n",
       "      <td>28.568703</td>\n",
       "      <td>18.444494</td>\n",
       "      <td>24300290</td>\n",
       "      <td>Wall Street News Alert:  Stocks This Morning: ...</td>\n",
       "    </tr>\n",
       "    <tr>\n",
       "      <th>2009-07-31</th>\n",
       "      <td>28.816793</td>\n",
       "      <td>29.179390</td>\n",
       "      <td>28.540075</td>\n",
       "      <td>28.635496</td>\n",
       "      <td>18.487617</td>\n",
       "      <td>16269362</td>\n",
       "      <td>Wall Street News Alert:  Stocks This Morning: ...</td>\n",
       "    </tr>\n",
       "  </tbody>\n",
       "</table>\n",
       "</div>"
      ],
      "text/plain": [
       "                 Open       High        Low      Close  Adj Close    Volume  \\\n",
       "Date                                                                          \n",
       "2009-07-27  29.694656  29.751907  29.026718  29.360687  18.955826  21026758   \n",
       "2009-07-28  29.303434  29.494274  28.406488  28.645039  18.493778  23627265   \n",
       "2009-07-29  28.635496  28.759542  28.158398  28.501907  18.401373  16696736   \n",
       "2009-07-30  28.826336  29.551527  28.511450  28.568703  18.444494  24300290   \n",
       "2009-07-31  28.816793  29.179390  28.540075  28.635496  18.487617  16269362   \n",
       "\n",
       "                                                         news  \n",
       "Date                                                           \n",
       "2009-07-27  Wall Street News Alert:  Stocks This Morning: ...  \n",
       "2009-07-28  Wall Street News Alert:  Stocks This Morning: ...  \n",
       "2009-07-29  Wall Street News Alert:  Stocks This Morning: ...  \n",
       "2009-07-30  Wall Street News Alert:  Stocks This Morning: ...  \n",
       "2009-07-31  Wall Street News Alert:  Stocks This Morning: ...  "
      ]
     },
     "execution_count": 21,
     "metadata": {},
     "output_type": "execute_result"
    }
   ],
   "source": [
    "data.ffill(inplace = True)\n",
    "\n",
    "data.head()"
   ]
  },
  {
   "cell_type": "code",
   "execution_count": 22,
   "metadata": {},
   "outputs": [
    {
     "data": {
      "text/plain": [
       "Open         0\n",
       "High         0\n",
       "Low          0\n",
       "Close        0\n",
       "Adj Close    0\n",
       "Volume       0\n",
       "news         0\n",
       "dtype: int64"
      ]
     },
     "execution_count": 22,
     "metadata": {},
     "output_type": "execute_result"
    }
   ],
   "source": [
    "data.isna().sum()"
   ]
  },
  {
   "cell_type": "code",
   "execution_count": 23,
   "metadata": {},
   "outputs": [],
   "source": [
    "# Create a new data set with only columns which we need\n",
    "\n",
    "new_data = data[['Close', 'news']]\n",
    "\n",
    "# Now since we have everything we need in a separate data frame it is time to free up some space by deleting the old dataframes\n",
    "\n",
    "del data\n",
    "del news\n",
    "del new_news\n",
    "del news_agg"
   ]
  },
  {
   "cell_type": "code",
   "execution_count": 24,
   "metadata": {},
   "outputs": [
    {
     "data": {
      "text/html": [
       "<div>\n",
       "<style scoped>\n",
       "    .dataframe tbody tr th:only-of-type {\n",
       "        vertical-align: middle;\n",
       "    }\n",
       "\n",
       "    .dataframe tbody tr th {\n",
       "        vertical-align: top;\n",
       "    }\n",
       "\n",
       "    .dataframe thead th {\n",
       "        text-align: right;\n",
       "    }\n",
       "</style>\n",
       "<table border=\"1\" class=\"dataframe\">\n",
       "  <thead>\n",
       "    <tr style=\"text-align: right;\">\n",
       "      <th></th>\n",
       "      <th>Close</th>\n",
       "      <th>news</th>\n",
       "    </tr>\n",
       "    <tr>\n",
       "      <th>Date</th>\n",
       "      <th></th>\n",
       "      <th></th>\n",
       "    </tr>\n",
       "  </thead>\n",
       "  <tbody>\n",
       "    <tr>\n",
       "      <th>2009-07-27</th>\n",
       "      <td>29.360687</td>\n",
       "      <td>Wall Street News Alert:  Stocks This Morning: ...</td>\n",
       "    </tr>\n",
       "    <tr>\n",
       "      <th>2009-07-28</th>\n",
       "      <td>28.645039</td>\n",
       "      <td>Wall Street News Alert:  Stocks This Morning: ...</td>\n",
       "    </tr>\n",
       "    <tr>\n",
       "      <th>2009-07-29</th>\n",
       "      <td>28.501907</td>\n",
       "      <td>Wall Street News Alert:  Stocks This Morning: ...</td>\n",
       "    </tr>\n",
       "    <tr>\n",
       "      <th>2009-07-30</th>\n",
       "      <td>28.568703</td>\n",
       "      <td>Wall Street News Alert:  Stocks This Morning: ...</td>\n",
       "    </tr>\n",
       "    <tr>\n",
       "      <th>2009-07-31</th>\n",
       "      <td>28.635496</td>\n",
       "      <td>Wall Street News Alert:  Stocks This Morning: ...</td>\n",
       "    </tr>\n",
       "  </tbody>\n",
       "</table>\n",
       "</div>"
      ],
      "text/plain": [
       "                Close                                               news\n",
       "Date                                                                    \n",
       "2009-07-27  29.360687  Wall Street News Alert:  Stocks This Morning: ...\n",
       "2009-07-28  28.645039  Wall Street News Alert:  Stocks This Morning: ...\n",
       "2009-07-29  28.501907  Wall Street News Alert:  Stocks This Morning: ...\n",
       "2009-07-30  28.568703  Wall Street News Alert:  Stocks This Morning: ...\n",
       "2009-07-31  28.635496  Wall Street News Alert:  Stocks This Morning: ..."
      ]
     },
     "execution_count": 24,
     "metadata": {},
     "output_type": "execute_result"
    }
   ],
   "source": [
    "new_data.head()"
   ]
  },
  {
   "cell_type": "markdown",
   "metadata": {},
   "source": [
    "## Now lets look at the stock price values in a graph"
   ]
  },
  {
   "cell_type": "code",
   "execution_count": 25,
   "metadata": {},
   "outputs": [],
   "source": [
    "# Import the seaborn and matplotlib libraries\n",
    "\n",
    "import seaborn as sns\n",
    "import matplotlib.pyplot as plt"
   ]
  },
  {
   "cell_type": "code",
   "execution_count": 26,
   "metadata": {},
   "outputs": [
    {
     "data": {
      "image/png": "[encoded data removed]",
      "text/plain": [
       "<Figure size 1200x600 with 1 Axes>"
      ]
     },
     "metadata": {},
     "output_type": "display_data"
    }
   ],
   "source": [
    "plt.figure(figsize = (12, 6))\n",
    "sns.lineplot(x = new_data.index, y = new_data['Close'])\n",
    "plt.show()"
   ]
  },
  {
   "cell_type": "code",
   "execution_count": null,
   "metadata": {},
   "outputs": [],
   "source": []
  },
  {
   "cell_type": "markdown",
   "metadata": {},
   "source": [
    "### The next step in the process is to pre-process the text data"
   ]
  },
  {
   "cell_type": "code",
   "execution_count": 27,
   "metadata": {},
   "outputs": [],
   "source": [
    "import nltk \n",
    "from nltk.tokenize import word_tokenize\n",
    "from nltk import pos_tag\n",
    "from nltk.corpus import stopwords\n",
    "from nltk.stem import WordNetLemmatizer\n",
    "from collections import defaultdict\n",
    "from nltk.corpus import wordnet as wn"
   ]
  },
  {
   "cell_type": "code",
   "execution_count": 28,
   "metadata": {},
   "outputs": [],
   "source": [
    "# Time to preprocess our news\n",
    "# While preprocessing we will remove all the unnecessary characters\n",
    "\n",
    "def preprocess(df_news):\n",
    "    df_news['news']=[entry.lower() for entry in df_news['news']]\n",
    "    df_news.news =df_news.news.replace(to_replace='from:(.*\\n)',value='',regex=True) #remove from to email \n",
    "    df_news.news =df_news.news.replace(to_replace='lines:(.*\\n)',value='',regex=True)\n",
    "    df_news.news =df_news.news.replace(to_replace='[!\"#$%&\\'()*+,/:;<=>?@[\\\\]^_`{|}~]',value=' ',regex=True) #remove punctuation except\n",
    "    df_news.news =df_news.news.replace(to_replace='-',value=' ',regex=True)\n",
    "    df_news.news =df_news.news.replace(to_replace='\\s+',value=' ',regex=True)    #remove new line\n",
    "    df_news.news =df_news.news.replace(to_replace='  ',value='',regex=True)                #remove double white space\n",
    "    df_news.news =df_news.news.apply(lambda x:x.strip())  # Ltrim and Rtrim of whitespace\n",
    "\n",
    "    for i,sen in enumerate(df_news.news):\n",
    "        if len(sen.strip()) ==0:\n",
    "            print(str(i))\n",
    "            df_news=df_news.drop(str(i),axis=0).reset_index().drop('index',axis=1)\n",
    "\n",
    "    return df_news"
   ]
  },
  {
   "cell_type": "code",
   "execution_count": 29,
   "metadata": {},
   "outputs": [
    {
     "name": "stderr",
     "output_type": "stream",
     "text": [
      "<ipython-input-28-0b2be024e649>:5: SettingWithCopyWarning: \n",
      "A value is trying to be set on a copy of a slice from a DataFrame.\n",
      "Try using .loc[row_indexer,col_indexer] = value instead\n",
      "\n",
      "See the caveats in the documentation: https://pandas.pydata.org/pandas-docs/stable/user_guide/indexing.html#returning-a-view-versus-a-copy\n",
      "  df_news['news']=[entry.lower() for entry in df_news['news']]\n",
      "/Users/ankushpandey/miniforge3/envs/tensorflow/lib/python3.9/site-packages/pandas/core/generic.py:5507: SettingWithCopyWarning: \n",
      "A value is trying to be set on a copy of a slice from a DataFrame.\n",
      "Try using .loc[row_indexer,col_indexer] = value instead\n",
      "\n",
      "See the caveats in the documentation: https://pandas.pydata.org/pandas-docs/stable/user_guide/indexing.html#returning-a-view-versus-a-copy\n",
      "  self[name] = value\n"
     ]
    }
   ],
   "source": [
    "new_data = preprocess(new_data)"
   ]
  },
  {
   "cell_type": "code",
   "execution_count": 30,
   "metadata": {},
   "outputs": [],
   "source": [
    "# Define a function to talk in his death sentences present in the news column since we cannot use sentences to train machine learning model.\n",
    "\n",
    "def tokenise(df_news):\n",
    "    df_news['news tokenize']= [word_tokenize(entry) for entry in df_news.news]\n",
    "    return df_news"
   ]
  },
  {
   "cell_type": "code",
   "execution_count": 31,
   "metadata": {},
   "outputs": [
    {
     "name": "stderr",
     "output_type": "stream",
     "text": [
      "<ipython-input-30-d00a3d83ea69>:4: SettingWithCopyWarning: \n",
      "A value is trying to be set on a copy of a slice from a DataFrame.\n",
      "Try using .loc[row_indexer,col_indexer] = value instead\n",
      "\n",
      "See the caveats in the documentation: https://pandas.pydata.org/pandas-docs/stable/user_guide/indexing.html#returning-a-view-versus-a-copy\n",
      "  df_news['news tokenize']= [word_tokenize(entry) for entry in df_news.news]\n"
     ]
    },
    {
     "data": {
      "text/html": [
       "<div>\n",
       "<style scoped>\n",
       "    .dataframe tbody tr th:only-of-type {\n",
       "        vertical-align: middle;\n",
       "    }\n",
       "\n",
       "    .dataframe tbody tr th {\n",
       "        vertical-align: top;\n",
       "    }\n",
       "\n",
       "    .dataframe thead th {\n",
       "        text-align: right;\n",
       "    }\n",
       "</style>\n",
       "<table border=\"1\" class=\"dataframe\">\n",
       "  <thead>\n",
       "    <tr style=\"text-align: right;\">\n",
       "      <th></th>\n",
       "      <th>Close</th>\n",
       "      <th>news</th>\n",
       "      <th>news tokenize</th>\n",
       "    </tr>\n",
       "    <tr>\n",
       "      <th>Date</th>\n",
       "      <th></th>\n",
       "      <th></th>\n",
       "      <th></th>\n",
       "    </tr>\n",
       "  </thead>\n",
       "  <tbody>\n",
       "    <tr>\n",
       "      <th>2009-07-27</th>\n",
       "      <td>29.360687</td>\n",
       "      <td>wall street news alert stocks this morning gre...</td>\n",
       "      <td>[wall, street, news, alert, stocks, this, morn...</td>\n",
       "    </tr>\n",
       "    <tr>\n",
       "      <th>2009-07-28</th>\n",
       "      <td>28.645039</td>\n",
       "      <td>wall street news alert stocks this morning gre...</td>\n",
       "      <td>[wall, street, news, alert, stocks, this, morn...</td>\n",
       "    </tr>\n",
       "    <tr>\n",
       "      <th>2009-07-29</th>\n",
       "      <td>28.501907</td>\n",
       "      <td>wall street news alert stocks this morning gre...</td>\n",
       "      <td>[wall, street, news, alert, stocks, this, morn...</td>\n",
       "    </tr>\n",
       "    <tr>\n",
       "      <th>2009-07-30</th>\n",
       "      <td>28.568703</td>\n",
       "      <td>wall street news alert stocks this morning gre...</td>\n",
       "      <td>[wall, street, news, alert, stocks, this, morn...</td>\n",
       "    </tr>\n",
       "    <tr>\n",
       "      <th>2009-07-31</th>\n",
       "      <td>28.635496</td>\n",
       "      <td>wall street news alert stocks this morning gre...</td>\n",
       "      <td>[wall, street, news, alert, stocks, this, morn...</td>\n",
       "    </tr>\n",
       "  </tbody>\n",
       "</table>\n",
       "</div>"
      ],
      "text/plain": [
       "                Close                                               news  \\\n",
       "Date                                                                       \n",
       "2009-07-27  29.360687  wall street news alert stocks this morning gre...   \n",
       "2009-07-28  28.645039  wall street news alert stocks this morning gre...   \n",
       "2009-07-29  28.501907  wall street news alert stocks this morning gre...   \n",
       "2009-07-30  28.568703  wall street news alert stocks this morning gre...   \n",
       "2009-07-31  28.635496  wall street news alert stocks this morning gre...   \n",
       "\n",
       "                                                news tokenize  \n",
       "Date                                                           \n",
       "2009-07-27  [wall, street, news, alert, stocks, this, morn...  \n",
       "2009-07-28  [wall, street, news, alert, stocks, this, morn...  \n",
       "2009-07-29  [wall, street, news, alert, stocks, this, morn...  \n",
       "2009-07-30  [wall, street, news, alert, stocks, this, morn...  \n",
       "2009-07-31  [wall, street, news, alert, stocks, this, morn...  "
      ]
     },
     "execution_count": 31,
     "metadata": {},
     "output_type": "execute_result"
    }
   ],
   "source": [
    "new_data = tokenise(new_data)\n",
    "new_data.head()"
   ]
  },
  {
   "cell_type": "code",
   "execution_count": 32,
   "metadata": {},
   "outputs": [],
   "source": [
    "# Our next step is to limit is the data\n",
    "# The following function will take care of limitation all the related description is also mentioned in the function\n",
    "\n",
    "def wordLemmatizer(data):\n",
    "    tag_map = defaultdict(lambda : wn.NOUN)\n",
    "    tag_map['J'] = wn.ADJ\n",
    "    tag_map['V'] = wn.VERB\n",
    "    tag_map['R'] = wn.ADV\n",
    "    file_clean_k =pd.DataFrame()\n",
    "    for index,entry in enumerate(data):\n",
    "        \n",
    "        # Declaring Empty List to store the words that follow the rules for this step\n",
    "        Final_words = []\n",
    "        # Initializing WordNetLemmatizer()\n",
    "        word_Lemmatized = WordNetLemmatizer()\n",
    "        # pos_tag function below will provide the 'tag' i.e if the word is Noun(N) or Verb(V) or something else.\n",
    "        for word, tag in pos_tag(entry):\n",
    "            # Below condition is to check for Stop words and consider only alphabets\n",
    "            if len(word)>1 and word not in stopwords.words('english') and word.isalpha():\n",
    "                word_Final = word_Lemmatized.lemmatize(word,tag_map[tag[0]])\n",
    "                Final_words.append(word_Final)\n",
    "            # The final processed set of words for each iteration will be stored in 'text_final'\n",
    "                file_clean_k.loc[index,'Final_keywords'] = str(Final_words)\n",
    "                file_clean_k.loc[index,'Final_keywords'] = str(Final_words)\n",
    "    return file_clean_k"
   ]
  },
  {
   "cell_type": "code",
   "execution_count": 36,
   "metadata": {},
   "outputs": [
    {
     "name": "stderr",
     "output_type": "stream",
     "text": [
      "<ipython-input-36-205ff01a4edd>:1: SettingWithCopyWarning: \n",
      "A value is trying to be set on a copy of a slice from a DataFrame.\n",
      "Try using .loc[row_indexer,col_indexer] = value instead\n",
      "\n",
      "See the caveats in the documentation: https://pandas.pydata.org/pandas-docs/stable/user_guide/indexing.html#returning-a-view-versus-a-copy\n",
      "  new_data['Final_keywords'] = wordLemmatizer(new_data['news tokenize']).values\n"
     ]
    },
    {
     "data": {
      "text/html": [
       "<div>\n",
       "<style scoped>\n",
       "    .dataframe tbody tr th:only-of-type {\n",
       "        vertical-align: middle;\n",
       "    }\n",
       "\n",
       "    .dataframe tbody tr th {\n",
       "        vertical-align: top;\n",
       "    }\n",
       "\n",
       "    .dataframe thead th {\n",
       "        text-align: right;\n",
       "    }\n",
       "</style>\n",
       "<table border=\"1\" class=\"dataframe\">\n",
       "  <thead>\n",
       "    <tr style=\"text-align: right;\">\n",
       "      <th></th>\n",
       "      <th>Close</th>\n",
       "      <th>news</th>\n",
       "      <th>news tokenize</th>\n",
       "      <th>Final_keywords</th>\n",
       "    </tr>\n",
       "    <tr>\n",
       "      <th>Date</th>\n",
       "      <th></th>\n",
       "      <th></th>\n",
       "      <th></th>\n",
       "      <th></th>\n",
       "    </tr>\n",
       "  </thead>\n",
       "  <tbody>\n",
       "    <tr>\n",
       "      <th>2009-07-27</th>\n",
       "      <td>29.360687</td>\n",
       "      <td>wall street news alert stocks this morning gre...</td>\n",
       "      <td>[wall, street, news, alert, stocks, this, morn...</td>\n",
       "      <td>['wall', 'street', 'news', 'alert', 'stock', '...</td>\n",
       "    </tr>\n",
       "    <tr>\n",
       "      <th>2009-07-28</th>\n",
       "      <td>28.645039</td>\n",
       "      <td>wall street news alert stocks this morning gre...</td>\n",
       "      <td>[wall, street, news, alert, stocks, this, morn...</td>\n",
       "      <td>['wall', 'street', 'news', 'alert', 'stock', '...</td>\n",
       "    </tr>\n",
       "    <tr>\n",
       "      <th>2009-07-29</th>\n",
       "      <td>28.501907</td>\n",
       "      <td>wall street news alert stocks this morning gre...</td>\n",
       "      <td>[wall, street, news, alert, stocks, this, morn...</td>\n",
       "      <td>['wall', 'street', 'news', 'alert', 'stock', '...</td>\n",
       "    </tr>\n",
       "    <tr>\n",
       "      <th>2009-07-30</th>\n",
       "      <td>28.568703</td>\n",
       "      <td>wall street news alert stocks this morning gre...</td>\n",
       "      <td>[wall, street, news, alert, stocks, this, morn...</td>\n",
       "      <td>['wall', 'street', 'news', 'alert', 'stock', '...</td>\n",
       "    </tr>\n",
       "    <tr>\n",
       "      <th>2009-07-31</th>\n",
       "      <td>28.635496</td>\n",
       "      <td>wall street news alert stocks this morning gre...</td>\n",
       "      <td>[wall, street, news, alert, stocks, this, morn...</td>\n",
       "      <td>['wall', 'street', 'news', 'alert', 'stock', '...</td>\n",
       "    </tr>\n",
       "  </tbody>\n",
       "</table>\n",
       "</div>"
      ],
      "text/plain": [
       "                Close                                               news  \\\n",
       "Date                                                                       \n",
       "2009-07-27  29.360687  wall street news alert stocks this morning gre...   \n",
       "2009-07-28  28.645039  wall street news alert stocks this morning gre...   \n",
       "2009-07-29  28.501907  wall street news alert stocks this morning gre...   \n",
       "2009-07-30  28.568703  wall street news alert stocks this morning gre...   \n",
       "2009-07-31  28.635496  wall street news alert stocks this morning gre...   \n",
       "\n",
       "                                                news tokenize  \\\n",
       "Date                                                            \n",
       "2009-07-27  [wall, street, news, alert, stocks, this, morn...   \n",
       "2009-07-28  [wall, street, news, alert, stocks, this, morn...   \n",
       "2009-07-29  [wall, street, news, alert, stocks, this, morn...   \n",
       "2009-07-30  [wall, street, news, alert, stocks, this, morn...   \n",
       "2009-07-31  [wall, street, news, alert, stocks, this, morn...   \n",
       "\n",
       "                                               Final_keywords  \n",
       "Date                                                           \n",
       "2009-07-27  ['wall', 'street', 'news', 'alert', 'stock', '...  \n",
       "2009-07-28  ['wall', 'street', 'news', 'alert', 'stock', '...  \n",
       "2009-07-29  ['wall', 'street', 'news', 'alert', 'stock', '...  \n",
       "2009-07-30  ['wall', 'street', 'news', 'alert', 'stock', '...  \n",
       "2009-07-31  ['wall', 'street', 'news', 'alert', 'stock', '...  "
      ]
     },
     "execution_count": 36,
     "metadata": {},
     "output_type": "execute_result"
    }
   ],
   "source": [
    "new_data['Final_keywords'] = wordLemmatizer(new_data['news tokenize']).values\n",
    "new_data.head()"
   ]
  },
  {
   "cell_type": "code",
   "execution_count": 37,
   "metadata": {},
   "outputs": [],
   "source": [
    "# Further cleaning of the data because I found some irregularities\n",
    "\n",
    "def clean_more(df_clean):\n",
    "    df_clean=df_clean.replace(to_replace =\"\\[.\", value = '', regex = True)\n",
    "    df_clean=df_clean.replace(to_replace =\"'\", value = '', regex = True)\n",
    "    df_clean=df_clean.replace(to_replace =\" \", value = '', regex = True)\n",
    "    df_clean=df_clean.replace(to_replace ='\\]', value = '', regex = True)\n",
    "\n",
    "    return df_clean"
   ]
  },
  {
   "cell_type": "code",
   "execution_count": 38,
   "metadata": {},
   "outputs": [
    {
     "name": "stderr",
     "output_type": "stream",
     "text": [
      "<ipython-input-38-2fbc944d490d>:1: SettingWithCopyWarning: \n",
      "A value is trying to be set on a copy of a slice from a DataFrame.\n",
      "Try using .loc[row_indexer,col_indexer] = value instead\n",
      "\n",
      "See the caveats in the documentation: https://pandas.pydata.org/pandas-docs/stable/user_guide/indexing.html#returning-a-view-versus-a-copy\n",
      "  new_data['Final_keywords'] = clean_more(new_data['Final_keywords']).values\n"
     ]
    },
    {
     "data": {
      "text/html": [
       "<div>\n",
       "<style scoped>\n",
       "    .dataframe tbody tr th:only-of-type {\n",
       "        vertical-align: middle;\n",
       "    }\n",
       "\n",
       "    .dataframe tbody tr th {\n",
       "        vertical-align: top;\n",
       "    }\n",
       "\n",
       "    .dataframe thead th {\n",
       "        text-align: right;\n",
       "    }\n",
       "</style>\n",
       "<table border=\"1\" class=\"dataframe\">\n",
       "  <thead>\n",
       "    <tr style=\"text-align: right;\">\n",
       "      <th></th>\n",
       "      <th>Close</th>\n",
       "      <th>news</th>\n",
       "      <th>news tokenize</th>\n",
       "      <th>Final_keywords</th>\n",
       "    </tr>\n",
       "    <tr>\n",
       "      <th>Date</th>\n",
       "      <th></th>\n",
       "      <th></th>\n",
       "      <th></th>\n",
       "      <th></th>\n",
       "    </tr>\n",
       "  </thead>\n",
       "  <tbody>\n",
       "    <tr>\n",
       "      <th>2009-07-27</th>\n",
       "      <td>29.360687</td>\n",
       "      <td>wall street news alert stocks this morning gre...</td>\n",
       "      <td>[wall, street, news, alert, stocks, this, morn...</td>\n",
       "      <td>wall,street,news,alert,stock,morning,green,sta...</td>\n",
       "    </tr>\n",
       "    <tr>\n",
       "      <th>2009-07-28</th>\n",
       "      <td>28.645039</td>\n",
       "      <td>wall street news alert stocks this morning gre...</td>\n",
       "      <td>[wall, street, news, alert, stocks, this, morn...</td>\n",
       "      <td>wall,street,news,alert,stock,morning,green,sta...</td>\n",
       "    </tr>\n",
       "    <tr>\n",
       "      <th>2009-07-29</th>\n",
       "      <td>28.501907</td>\n",
       "      <td>wall street news alert stocks this morning gre...</td>\n",
       "      <td>[wall, street, news, alert, stocks, this, morn...</td>\n",
       "      <td>wall,street,news,alert,stock,morning,green,sta...</td>\n",
       "    </tr>\n",
       "    <tr>\n",
       "      <th>2009-07-30</th>\n",
       "      <td>28.568703</td>\n",
       "      <td>wall street news alert stocks this morning gre...</td>\n",
       "      <td>[wall, street, news, alert, stocks, this, morn...</td>\n",
       "      <td>wall,street,news,alert,stock,morning,green,sta...</td>\n",
       "    </tr>\n",
       "    <tr>\n",
       "      <th>2009-07-31</th>\n",
       "      <td>28.635496</td>\n",
       "      <td>wall street news alert stocks this morning gre...</td>\n",
       "      <td>[wall, street, news, alert, stocks, this, morn...</td>\n",
       "      <td>wall,street,news,alert,stock,morning,green,sta...</td>\n",
       "    </tr>\n",
       "  </tbody>\n",
       "</table>\n",
       "</div>"
      ],
      "text/plain": [
       "                Close                                               news  \\\n",
       "Date                                                                       \n",
       "2009-07-27  29.360687  wall street news alert stocks this morning gre...   \n",
       "2009-07-28  28.645039  wall street news alert stocks this morning gre...   \n",
       "2009-07-29  28.501907  wall street news alert stocks this morning gre...   \n",
       "2009-07-30  28.568703  wall street news alert stocks this morning gre...   \n",
       "2009-07-31  28.635496  wall street news alert stocks this morning gre...   \n",
       "\n",
       "                                                news tokenize  \\\n",
       "Date                                                            \n",
       "2009-07-27  [wall, street, news, alert, stocks, this, morn...   \n",
       "2009-07-28  [wall, street, news, alert, stocks, this, morn...   \n",
       "2009-07-29  [wall, street, news, alert, stocks, this, morn...   \n",
       "2009-07-30  [wall, street, news, alert, stocks, this, morn...   \n",
       "2009-07-31  [wall, street, news, alert, stocks, this, morn...   \n",
       "\n",
       "                                               Final_keywords  \n",
       "Date                                                           \n",
       "2009-07-27  wall,street,news,alert,stock,morning,green,sta...  \n",
       "2009-07-28  wall,street,news,alert,stock,morning,green,sta...  \n",
       "2009-07-29  wall,street,news,alert,stock,morning,green,sta...  \n",
       "2009-07-30  wall,street,news,alert,stock,morning,green,sta...  \n",
       "2009-07-31  wall,street,news,alert,stock,morning,green,sta...  "
      ]
     },
     "execution_count": 38,
     "metadata": {},
     "output_type": "execute_result"
    }
   ],
   "source": [
    "new_data['Final_keywords'] = clean_more(new_data['Final_keywords']).values\n",
    "new_data.head()"
   ]
  },
  {
   "cell_type": "code",
   "execution_count": 44,
   "metadata": {},
   "outputs": [],
   "source": [
    "# Now we will create the vocabulary\n",
    "# We will also create the TFIDF vectors\n",
    "\n",
    "from sklearn.feature_extraction.text import TfidfVectorizer\n",
    "import operator\n",
    "\n",
    "\n",
    "def create_vocabulary(df_news):\n",
    "    ## Create Vocabulary\n",
    "    vocabulary = set()\n",
    "\n",
    "    for doc in df_news.Final_keywords:\n",
    "        vocabulary.update(doc.split(','))\n",
    "\n",
    "    vocabulary = list(vocabulary)\n",
    "    return vocabulary\n",
    "\n",
    "\n"
   ]
  },
  {
   "cell_type": "code",
   "execution_count": 46,
   "metadata": {},
   "outputs": [],
   "source": [
    "vocabulary = create_vocabulary(new_data)"
   ]
  },
  {
   "cell_type": "code",
   "execution_count": 54,
   "metadata": {},
   "outputs": [],
   "source": [
    "def tfidf_vector(vocabulary, df_news):\n",
    "    # Intializating the tfIdf model\n",
    "    tfidf = TfidfVectorizer(vocabulary=vocabulary,dtype=np.float32)\n",
    "\n",
    "    # Fit the TfIdf model\n",
    "    tfidf.fit(df_news.Final_keywords)\n",
    "\n",
    "    # Transform the TfIdf model\n",
    "    news_vectors=tfidf.transform(df_news.Final_keywords)\n",
    "    \n",
    "    return news_vectors"
   ]
  },
  {
   "cell_type": "code",
   "execution_count": 57,
   "metadata": {},
   "outputs": [
    {
     "data": {
      "text/plain": [
       "(2738, 4359)"
      ]
     },
     "execution_count": 57,
     "metadata": {},
     "output_type": "execute_result"
    }
   ],
   "source": [
    "news_vectors = tfidf_vector(vocabulary, new_data)\n",
    "\n",
    "news_vectors.shape"
   ]
  },
  {
   "cell_type": "code",
   "execution_count": null,
   "metadata": {},
   "outputs": [],
   "source": []
  },
  {
   "cell_type": "markdown",
   "metadata": {},
   "source": [
    "### By this time we are done with all sort of processing, now we will create a K means clustering model and cluster the news vectors"
   ]
  },
  {
   "cell_type": "code",
   "execution_count": 63,
   "metadata": {},
   "outputs": [
    {
     "data": {
      "image/png": "[encoded data removed]",
      "text/plain": [
       "<Figure size 1200x900 with 1 Axes>"
      ]
     },
     "metadata": {},
     "output_type": "display_data"
    }
   ],
   "source": [
    "from sklearn.cluster import KMeans\n",
    "\n",
    "# we also need to select the best value of n_clusters in the clusters\n",
    "# Following loop will get us the best value of n_clusters\n",
    "\n",
    "inertia_dict = {}\n",
    "\n",
    "for k in range(2, 25):\n",
    "    kmean = KMeans(n_clusters = k)\n",
    "    kmean.fit(news_vectors)\n",
    "    inertia_dict[k] = kmean.inertia_\n",
    "\n",
    "\n",
    "plt.figure(figsize = (12, 9))\n",
    "sns.lineplot(x = list(inertia_dict.keys()), y = list(inertia_dict.values()))\n",
    "plt.show()"
   ]
  },
  {
   "cell_type": "code",
   "execution_count": null,
   "metadata": {},
   "outputs": [],
   "source": []
  },
  {
   "cell_type": "code",
   "execution_count": null,
   "metadata": {},
   "outputs": [],
   "source": []
  }
 ],
 "metadata": {
  "interpreter": {
   "hash": "343986f8465ea7f501665066340a6e4a7b639b52c302955116ce941ba04487e2"
  },
  "kernelspec": {
   "display_name": "Python 3.9.7 64-bit ('tensorflow': conda)",
   "language": "python",
   "name": "python3"
  },
  "language_info": {
   "codemirror_mode": {
    "name": "ipython",
    "version": 3
   },
   "file_extension": ".py",
   "mimetype": "text/x-python",
   "name": "python",
   "nbconvert_exporter": "python",
   "pygments_lexer": "ipython3",
   "version": "3.9.7"
  },
  "orig_nbformat": 4
 },
 "nbformat": 4,
 "nbformat_minor": 2
}
